{
 "cells": [
  {
   "cell_type": "code",
   "execution_count": null,
   "metadata": {
    "colab": {},
    "colab_type": "code",
    "id": "nX99zdoffBLg"
   },
   "outputs": [],
   "source": [
    "import torch\n",
    "import matplotlib.pyplot as plt\n",
    "from pytorch3d.io import load_objs_as_meshes\n",
    "from pathlib import Path\n",
    "from neural_poisson.data.prepare import extract_surface_data, uniform_sphere_cameras\n",
    "\n",
    "# settings\n",
    "image_size = 512\n",
    "segments = 10\n",
    "device = \"cuda\"\n",
    "model_id = \"1a04e3eab45ca15dd86060f189eb133\"\n",
    "\n",
    "# define the paths\n",
    "root_dir = Path(\"/home/borth/2d-gaussian-splatting/\")\n",
    "shapenet_dir = root_dir / \"data/ShapeNetCoreTiny/02691156\"\n",
    "shapenet_path = shapenet_dir / model_id / \"models/model_normalized.obj\"\n",
    "\n",
    "# load the mesh and the cameras\n",
    "mesh = load_objs_as_meshes([shapenet_path], device=device)\n",
    "cameras = uniform_sphere_cameras(segments=segments, device=device)\n",
    "\n",
    "# visualize a camera\n",
    "elev = 8\n",
    "azim = 1\n",
    "data = extract_surface_data(\n",
    "    camera=cameras[elev + azim * segments],\n",
    "    mesh=mesh,\n",
    "    image_size=image_size,\n",
    ")\n",
    "normal = torch.clip(data[\"normal_map\"][0], 0.0, 1.0)\n",
    "plt.imshow(normal.detach().cpu().numpy())"
   ]
  },
  {
   "cell_type": "code",
   "execution_count": null,
   "metadata": {},
   "outputs": [],
   "source": [
    "normals = []\n",
    "points = []\n",
    "for camera in cameras[:20]:\n",
    "    data = extract_surface_data(camera=camera, mesh=mesh, image_size=image_size)\n",
    "    normals.append(data[\"normals\"])\n",
    "    points.append(data[\"points\"])\n",
    "normals = torch.cat(normals) \n",
    "points = torch.cat(points) "
   ]
  },
  {
   "cell_type": "code",
   "execution_count": null,
   "metadata": {},
   "outputs": [],
   "source": [
    "import open3d as o3d\n",
    "\n",
    "pcd = o3d.geometry.PointCloud()\n",
    "pcd.points = o3d.utility.Vector3dVector(points.detach().cpu().numpy())\n",
    "pcd.normals = o3d.utility.Vector3dVector(normals.detach().cpu().numpy())\n",
    "o3d.visualization.draw_plotly([pcd])"
   ]
  },
  {
   "cell_type": "code",
   "execution_count": null,
   "metadata": {},
   "outputs": [],
   "source": [
    "import random\n",
    "random.choice([1, 2, 3])"
   ]
  },
  {
   "cell_type": "code",
   "execution_count": null,
   "metadata": {},
   "outputs": [],
   "source": [
    "torch.randperm(100)[:10]"
   ]
  },
  {
   "cell_type": "code",
   "execution_count": null,
   "metadata": {},
   "outputs": [],
   "source": [
    "from neural_poisson.data.shapenet import ShapeNetCoreDataset\n",
    "\n",
    "dataset = ShapeNetCoreDataset(\n",
    "    path=\n",
    ")"
   ]
  }
 ],
 "metadata": {
  "accelerator": "GPU",
  "anp_metadata": {
   "path": "notebooks/render_textured_meshes.ipynb"
  },
  "bento_stylesheets": {
   "bento/extensions/flow/main.css": true,
   "bento/extensions/kernel_selector/main.css": true,
   "bento/extensions/kernel_ui/main.css": true,
   "bento/extensions/new_kernel/main.css": true,
   "bento/extensions/system_usage/main.css": true,
   "bento/extensions/theme/main.css": true
  },
  "colab": {
   "name": "render_textured_meshes.ipynb",
   "provenance": []
  },
  "disseminate_notebook_info": {
   "backup_notebook_id": "569222367081034"
  },
  "kernelspec": {
   "display_name": "2dgs",
   "language": "python",
   "name": "python3"
  },
  "language_info": {
   "codemirror_mode": {
    "name": "ipython",
    "version": 3
   },
   "file_extension": ".py",
   "mimetype": "text/x-python",
   "name": "python",
   "nbconvert_exporter": "python",
   "pygments_lexer": "ipython3",
   "version": "3.10.16"
  }
 },
 "nbformat": 4,
 "nbformat_minor": 1
}
