{
 "cells": [
  {
   "cell_type": "code",
   "execution_count": null,
   "metadata": {},
   "outputs": [],
   "source": [
    "import logging\n",
    "from neural_poisson.data.shapenet import ShapeNetCoreDataset, log\n",
    "from pathlib import Path\n",
    "import time\n",
    "\n",
    "log.setLevel(logging.DEBUG)\n",
    "handler = logging.StreamHandler()\n",
    "handler.setLevel(logging.DEBUG)\n",
    "log.addHandler(handler)\n",
    "\n",
    "def measure_dataset(dataset, N=100):\n",
    "    start_time = time.time()\n",
    "    for i in range(N):\n",
    "        batch = dataset[i]\n",
    "    end_time = time.time()\n",
    "    duration = ((end_time - start_time) / N) * 1000\n",
    "    print(f\"Time taken for 100 iterations (GPU): {duration:.6f} ms\")\n",
    "\n",
    "# define the paths\n",
    "model_id = \"1a04e3eab45ca15dd86060f189eb133\"\n",
    "root_dir = Path(\"/home/borth/2d-gaussian-splatting/\")\n",
    "shapenet_dir = root_dir / \"data/ShapeNetCoreTiny/02691156\"\n",
    "shapenet_path = shapenet_dir / model_id / \"models/model_normalized.obj\""
   ]
  },
  {
   "cell_type": "code",
   "execution_count": null,
   "metadata": {},
   "outputs": [],
   "source": [
    "s = time.time()\n",
    "dataset = ShapeNetCoreDataset(\n",
    "    path=shapenet_path,\n",
    "    dist=2.0,\n",
    "    fov=30.0,\n",
    "    image_size=256,\n",
    "    segments=6,   # subsample x4\n",
    "    resolution=0.001,\n",
    "    num_chunks=100,\n",
    "    chunk_size=10_000,\n",
    "    max_empty_points=100_000,\n",
    "    max_close_points=100_000,\n",
    "    max_surface_points=100_000,\n",
    "    vector_field_mode=\"k_nearest_neighbors\"\n",
    ")\n",
    "print(f\"Time taken for creation: {((time.time() - s)  * 1000):.6f} ms\")"
   ]
  },
  {
   "cell_type": "code",
   "execution_count": null,
   "metadata": {},
   "outputs": [],
   "source": [
    "dataset.plot_point_cloud(\"points_surface\")"
   ]
  },
  {
   "cell_type": "code",
   "execution_count": null,
   "metadata": {},
   "outputs": [],
   "source": [
    "dataset.plot_normal_maps(False)"
   ]
  },
  {
   "cell_type": "code",
   "execution_count": null,
   "metadata": {},
   "outputs": [],
   "source": [
    "from neural_poisson.model.neural_poisson import NeuralPoisson\n",
    "import open3d as o3d\n",
    "\n",
    "ckpt_path = \"/home/borth/2d-gaussian-splatting/logs/2025-02-19/18-03-57/checkpoints/epoch_099.ckpt\"\n",
    "model = NeuralPoisson.load_from_checkpoint(ckpt_path)"
   ]
  },
  {
   "cell_type": "code",
   "execution_count": null,
   "metadata": {},
   "outputs": [],
   "source": [
    "model.isolevel = 0.25\n",
    "verts, faces = model.to_mesh()\n",
    "mesh = o3d.geometry.TriangleMesh()\n",
    "mesh.vertices = o3d.utility.Vector3dVector(verts.cpu().numpy())\n",
    "mesh.triangles = o3d.utility.Vector3iVector(faces.cpu().numpy())"
   ]
  },
  {
   "cell_type": "code",
   "execution_count": null,
   "metadata": {},
   "outputs": [],
   "source": [
    "mesh.compute_vertex_normals()\n",
    "o3d.visualization.draw_plotly([mesh])"
   ]
  },
  {
   "cell_type": "code",
   "execution_count": null,
   "metadata": {},
   "outputs": [],
   "source": [
    "import torch\n",
    "from pytorch3d.structures import Meshes\n",
    "from neural_poisson.data.prepare import get_depth_camera_space_attributes, rasterize_attributes\n",
    "import matplotlib.pyplot as plt\n",
    "\n",
    "# Assuming verts and faces are tensors\n",
    "# verts: (V, 3) tensor of vertex positions\n",
    "# faces: (F, 3) tensor of triangle indices\n",
    "\n",
    "device = \"cuda\" if torch.cuda.is_available() else \"cpu\"\n",
    "\n",
    "# Example: Move tensors to the same device\n",
    "verts = verts.to(device)\n",
    "faces = faces.to(device)\n",
    "\n",
    "# Create a PyTorch3D Mesh\n",
    "mesh = Meshes(verts=[verts], faces=[faces])\n",
    "mesh = dataset.mesh\n",
    "\n",
    "# camera = dataset.cameras[9]\n",
    "for camera in dataset.cameras:\n",
    "\n",
    "    attributes = get_depth_camera_space_attributes(mesh=mesh, camera=camera)\n",
    "    depth_map, mask = rasterize_attributes(\n",
    "        mesh=mesh,\n",
    "        camera=camera,\n",
    "        attributes=attributes,\n",
    "        image_size=256,\n",
    "    )\n",
    "    plt.imshow(depth_map[0].detach().cpu().numpy())"
   ]
  },
  {
   "cell_type": "code",
   "execution_count": null,
   "metadata": {},
   "outputs": [],
   "source": [
    "m1 = dataset.mesh\n",
    "m2 = dataset.mesh"
   ]
  },
  {
   "cell_type": "code",
   "execution_count": null,
   "metadata": {},
   "outputs": [],
   "source": [
    "mask.shape"
   ]
  }
 ],
 "metadata": {
  "accelerator": "GPU",
  "anp_metadata": {
   "path": "notebooks/render_textured_meshes.ipynb"
  },
  "bento_stylesheets": {
   "bento/extensions/flow/main.css": true,
   "bento/extensions/kernel_selector/main.css": true,
   "bento/extensions/kernel_ui/main.css": true,
   "bento/extensions/new_kernel/main.css": true,
   "bento/extensions/system_usage/main.css": true,
   "bento/extensions/theme/main.css": true
  },
  "colab": {
   "name": "render_textured_meshes.ipynb",
   "provenance": []
  },
  "disseminate_notebook_info": {
   "backup_notebook_id": "569222367081034"
  },
  "kernelspec": {
   "display_name": "2dgs",
   "language": "python",
   "name": "python3"
  },
  "language_info": {
   "codemirror_mode": {
    "name": "ipython",
    "version": 3
   },
   "file_extension": ".py",
   "mimetype": "text/x-python",
   "name": "python",
   "nbconvert_exporter": "python",
   "pygments_lexer": "ipython3",
   "version": "3.10.16"
  }
 },
 "nbformat": 4,
 "nbformat_minor": 1
}
