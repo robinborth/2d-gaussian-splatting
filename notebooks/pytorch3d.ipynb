{
 "cells": [
  {
   "cell_type": "code",
   "execution_count": 1,
   "metadata": {},
   "outputs": [
    {
     "name": "stdout",
     "output_type": "stream",
     "text": [
      "Jupyter environment detected. Enabling Open3D WebVisualizer.\n",
      "[Open3D INFO] WebRTC GUI backend enabled.\n",
      "[Open3D INFO] WebRTCWindowSystem: HTTP handshake server disabled.\n",
      "ShapeNetCoreDataset\n",
      "Time taken for creation: 8578.547239 ms\n",
      "Time taken for 100 iterations (GPU): 0.868292 ms\n",
      "Time taken for creation: 10194.818497 ms\n",
      "Time taken for 100 iterations (GPU): 7.539384 ms\n",
      "Time taken for creation: 63314.271688 ms\n",
      "Time taken for 100 iterations (GPU): 57.487435 ms\n",
      "Time taken for creation: 63744.471550 ms\n",
      "Time taken for 100 iterations (GPU): 52.345588 ms\n",
      "ShapeNetCoreChunkDataset\n",
      "Time taken for creation: 7719.408751 ms\n",
      "Time taken for 100 iterations (GPU): 0.001161 ms\n",
      "Time taken for creation: 10546.224833 ms\n",
      "Time taken for 100 iterations (GPU): 0.001225 ms\n"
     ]
    },
    {
     "ename": "AssertionError",
     "evalue": "",
     "output_type": "error",
     "traceback": [
      "\u001b[0;31m---------------------------------------------------------------------------\u001b[0m",
      "\u001b[0;31mAssertionError\u001b[0m                            Traceback (most recent call last)",
      "Cell \u001b[0;32mIn[1], line 124\u001b[0m\n\u001b[1;32m    121\u001b[0m measure_dataset(dataset)\n\u001b[1;32m    123\u001b[0m s \u001b[38;5;241m=\u001b[39m time\u001b[38;5;241m.\u001b[39mtime()\n\u001b[0;32m--> 124\u001b[0m dataset \u001b[38;5;241m=\u001b[39m \u001b[43mShapeNetCoreChunkDataset\u001b[49m\u001b[43m(\u001b[49m\n\u001b[1;32m    125\u001b[0m \u001b[43m    \u001b[49m\u001b[43mpath\u001b[49m\u001b[38;5;241;43m=\u001b[39;49m\u001b[43mshapenet_path\u001b[49m\u001b[43m,\u001b[49m\n\u001b[1;32m    126\u001b[0m \u001b[43m    \u001b[49m\u001b[43msegments\u001b[49m\u001b[38;5;241;43m=\u001b[39;49m\u001b[38;5;241;43m10\u001b[39;49m\u001b[43m,\u001b[49m\n\u001b[1;32m    127\u001b[0m \u001b[43m    \u001b[49m\u001b[43mdist\u001b[49m\u001b[38;5;241;43m=\u001b[39;49m\u001b[38;5;241;43m2.0\u001b[39;49m\u001b[43m,\u001b[49m\n\u001b[1;32m    128\u001b[0m \u001b[43m    \u001b[49m\u001b[43mfov\u001b[49m\u001b[38;5;241;43m=\u001b[39;49m\u001b[38;5;241;43m30.0\u001b[39;49m\u001b[43m,\u001b[49m\n\u001b[1;32m    129\u001b[0m \u001b[43m    \u001b[49m\u001b[43mresolution\u001b[49m\u001b[38;5;241;43m=\u001b[39;49m\u001b[38;5;241;43m0.001\u001b[39;49m\u001b[43m,\u001b[49m\n\u001b[1;32m    130\u001b[0m \u001b[43m    \u001b[49m\u001b[43mnum_chunks\u001b[49m\u001b[38;5;241;43m=\u001b[39;49m\u001b[38;5;241;43m100\u001b[39;49m\u001b[43m,\u001b[49m\n\u001b[1;32m    131\u001b[0m \u001b[43m    \u001b[49m\u001b[43mchunk_size\u001b[49m\u001b[38;5;241;43m=\u001b[39;49m\u001b[38;5;241;43m10_000\u001b[39;49m\u001b[43m,\u001b[49m\n\u001b[1;32m    132\u001b[0m \u001b[43m    \u001b[49m\u001b[43mmax_empty_points\u001b[49m\u001b[38;5;241;43m=\u001b[39;49m\u001b[38;5;241;43m1_000_000\u001b[39;49m\u001b[43m,\u001b[49m\n\u001b[1;32m    133\u001b[0m \u001b[43m    \u001b[49m\u001b[43mmax_close_points\u001b[49m\u001b[38;5;241;43m=\u001b[39;49m\u001b[38;5;241;43m1_000_000\u001b[39;49m\u001b[43m,\u001b[49m\n\u001b[1;32m    134\u001b[0m \u001b[43m    \u001b[49m\u001b[43mmax_surface_points\u001b[49m\u001b[38;5;241;43m=\u001b[39;49m\u001b[38;5;241;43m1_000_000\u001b[39;49m\u001b[43m,\u001b[49m\n\u001b[1;32m    135\u001b[0m \u001b[43m    \u001b[49m\u001b[43mvector_field_mode\u001b[49m\u001b[38;5;241;43m=\u001b[39;49m\u001b[38;5;124;43m\"\u001b[39;49m\u001b[38;5;124;43mnearest_neighbor\u001b[39;49m\u001b[38;5;124;43m\"\u001b[39;49m\n\u001b[1;32m    136\u001b[0m \u001b[43m)\u001b[49m\n\u001b[1;32m    137\u001b[0m \u001b[38;5;28mprint\u001b[39m(\u001b[38;5;124mf\u001b[39m\u001b[38;5;124m\"\u001b[39m\u001b[38;5;124mTime taken for creation: \u001b[39m\u001b[38;5;132;01m{\u001b[39;00m((time\u001b[38;5;241m.\u001b[39mtime()\u001b[38;5;250m \u001b[39m\u001b[38;5;241m-\u001b[39m\u001b[38;5;250m \u001b[39ms)\u001b[38;5;250m  \u001b[39m\u001b[38;5;241m*\u001b[39m\u001b[38;5;250m \u001b[39m\u001b[38;5;241m1000\u001b[39m)\u001b[38;5;132;01m:\u001b[39;00m\u001b[38;5;124m.6f\u001b[39m\u001b[38;5;132;01m}\u001b[39;00m\u001b[38;5;124m ms\u001b[39m\u001b[38;5;124m\"\u001b[39m)\n\u001b[1;32m    138\u001b[0m measure_dataset(dataset)\n",
      "File \u001b[0;32m~/2d-gaussian-splatting/neural_poisson/neural_poisson/data/shapenet.py:412\u001b[0m, in \u001b[0;36mShapeNetCoreChunkDataset.__init__\u001b[0;34m(self, path, image_size, segments, dist, fov, fill_depth, device, num_chunks, chunk_size, surface_chunk_factor, close_chunk_factor, empty_chunk_factor, use_full_chunk, resolution, domain, max_surface_points, max_close_points, max_empty_points, empty_points_per_ray, close_points_per_ray, close_points_surface_threshold, vector_field_mode, vector_field_chunk_size, normalize, k, sigma, chunk_threshold, log_camera_idxs)\u001b[0m\n\u001b[1;32m    406\u001b[0m \u001b[38;5;28mself\u001b[39m\u001b[38;5;241m.\u001b[39mchunks \u001b[38;5;241m=\u001b[39m {}\n\u001b[1;32m    407\u001b[0m points_surface_chunk, vectors_surface_chunk \u001b[38;5;241m=\u001b[39m compute_chunks(\n\u001b[1;32m    408\u001b[0m     num_chunks\u001b[38;5;241m=\u001b[39m\u001b[38;5;28mself\u001b[39m\u001b[38;5;241m.\u001b[39mnum_chunks,\n\u001b[1;32m    409\u001b[0m     chunk_size\u001b[38;5;241m=\u001b[39m\u001b[38;5;28mint\u001b[39m(\u001b[38;5;28mself\u001b[39m\u001b[38;5;241m.\u001b[39mchunk_size \u001b[38;5;241m*\u001b[39m \u001b[38;5;28mself\u001b[39m\u001b[38;5;241m.\u001b[39msurface_chunk_factor),\n\u001b[1;32m    410\u001b[0m     values\u001b[38;5;241m=\u001b[39m[\u001b[38;5;28mself\u001b[39m\u001b[38;5;241m.\u001b[39mpoints_surface, \u001b[38;5;28mself\u001b[39m\u001b[38;5;241m.\u001b[39mvectors_surface],\n\u001b[1;32m    411\u001b[0m )\n\u001b[0;32m--> 412\u001b[0m points_close_chunk, vectors_close_chunk \u001b[38;5;241m=\u001b[39m \u001b[43mcompute_chunks\u001b[49m\u001b[43m(\u001b[49m\n\u001b[1;32m    413\u001b[0m \u001b[43m    \u001b[49m\u001b[43mnum_chunks\u001b[49m\u001b[38;5;241;43m=\u001b[39;49m\u001b[38;5;28;43mself\u001b[39;49m\u001b[38;5;241;43m.\u001b[39;49m\u001b[43mnum_chunks\u001b[49m\u001b[43m,\u001b[49m\n\u001b[1;32m    414\u001b[0m \u001b[43m    \u001b[49m\u001b[43mchunk_size\u001b[49m\u001b[38;5;241;43m=\u001b[39;49m\u001b[38;5;28;43mint\u001b[39;49m\u001b[43m(\u001b[49m\u001b[38;5;28;43mself\u001b[39;49m\u001b[38;5;241;43m.\u001b[39;49m\u001b[43mchunk_size\u001b[49m\u001b[43m \u001b[49m\u001b[38;5;241;43m*\u001b[39;49m\u001b[43m \u001b[49m\u001b[38;5;28;43mself\u001b[39;49m\u001b[38;5;241;43m.\u001b[39;49m\u001b[43mclose_chunk_factor\u001b[49m\u001b[43m)\u001b[49m\u001b[43m,\u001b[49m\n\u001b[1;32m    415\u001b[0m \u001b[43m    \u001b[49m\u001b[43mvalues\u001b[49m\u001b[38;5;241;43m=\u001b[39;49m\u001b[43m[\u001b[49m\u001b[38;5;28;43mself\u001b[39;49m\u001b[38;5;241;43m.\u001b[39;49m\u001b[43mpoints_close\u001b[49m\u001b[43m,\u001b[49m\u001b[43m \u001b[49m\u001b[38;5;28;43mself\u001b[39;49m\u001b[38;5;241;43m.\u001b[39;49m\u001b[43mvectors_close\u001b[49m\u001b[43m]\u001b[49m\u001b[43m,\u001b[49m\n\u001b[1;32m    416\u001b[0m \u001b[43m\u001b[49m\u001b[43m)\u001b[49m\n\u001b[1;32m    417\u001b[0m points_empty_chunk \u001b[38;5;241m=\u001b[39m compute_chunks(\n\u001b[1;32m    418\u001b[0m     num_chunks\u001b[38;5;241m=\u001b[39m\u001b[38;5;28mself\u001b[39m\u001b[38;5;241m.\u001b[39mnum_chunks,\n\u001b[1;32m    419\u001b[0m     chunk_size\u001b[38;5;241m=\u001b[39m\u001b[38;5;28mint\u001b[39m(\u001b[38;5;28mself\u001b[39m\u001b[38;5;241m.\u001b[39mchunk_size \u001b[38;5;241m*\u001b[39m \u001b[38;5;28mself\u001b[39m\u001b[38;5;241m.\u001b[39mempty_chunk_factor),\n\u001b[1;32m    420\u001b[0m     values\u001b[38;5;241m=\u001b[39m[\u001b[38;5;28mself\u001b[39m\u001b[38;5;241m.\u001b[39mpoints_empty],\n\u001b[1;32m    421\u001b[0m )\n\u001b[1;32m    422\u001b[0m \u001b[38;5;28mself\u001b[39m\u001b[38;5;241m.\u001b[39mchunks[\u001b[38;5;124m\"\u001b[39m\u001b[38;5;124mpoints_surface\u001b[39m\u001b[38;5;124m\"\u001b[39m] \u001b[38;5;241m=\u001b[39m points_surface_chunk\n",
      "File \u001b[0;32m~/2d-gaussian-splatting/neural_poisson/neural_poisson/data/prepare.py:66\u001b[0m, in \u001b[0;36mcompute_chunks\u001b[0;34m(num_chunks, chunk_size, values)\u001b[0m\n\u001b[1;32m     64\u001b[0m \u001b[38;5;28;01mfor\u001b[39;00m value \u001b[38;5;129;01min\u001b[39;00m values:\n\u001b[1;32m     65\u001b[0m     \u001b[38;5;28;01massert\u001b[39;00m value\u001b[38;5;241m.\u001b[39mshape[\u001b[38;5;241m0\u001b[39m] \u001b[38;5;241m==\u001b[39m points_count\n\u001b[0;32m---> 66\u001b[0m     \u001b[38;5;28;01massert\u001b[39;00m \u001b[38;5;28mint\u001b[39m(num_chunks \u001b[38;5;241m*\u001b[39m chunk_size) \u001b[38;5;241m>\u001b[39m\u001b[38;5;241m=\u001b[39m value\u001b[38;5;241m.\u001b[39mshape[\u001b[38;5;241m0\u001b[39m]\n\u001b[1;32m     68\u001b[0m \u001b[38;5;66;03m# one big list that fills the entire epoch\u001b[39;00m\n\u001b[1;32m     69\u001b[0m _permutations \u001b[38;5;241m=\u001b[39m []\n",
      "\u001b[0;31mAssertionError\u001b[0m: "
     ]
    }
   ],
   "source": [
    "from neural_poisson.data.shapenet import ShapeNetCoreDataset, ShapeNetCoreChunkDataset\n",
    "from pathlib import Path\n",
    "import time\n",
    "\n",
    "def measure_dataset(dataset, N=100):\n",
    "    start_time = time.time()\n",
    "    for i in range(N):\n",
    "        batch = dataset[i]\n",
    "    end_time = time.time()\n",
    "    duration = ((end_time - start_time) / N) * 1000\n",
    "    print(f\"Time taken for 100 iterations (GPU): {duration:.6f} ms\")\n",
    "\n",
    "# define the paths\n",
    "model_id = \"1a04e3eab45ca15dd86060f189eb133\"\n",
    "root_dir = Path(\"/home/borth/2d-gaussian-splatting/\")\n",
    "shapenet_dir = root_dir / \"data/ShapeNetCoreTiny/02691156\"\n",
    "shapenet_path = shapenet_dir / model_id / \"models/model_normalized.obj\"\n",
    "\n",
    "\n",
    "print(\"ShapeNetCoreDataset\")\n",
    "\n",
    "s = time.time()\n",
    "dataset = ShapeNetCoreDataset(\n",
    "    path=shapenet_path,\n",
    "    segments=10,\n",
    "    dist=2.0,\n",
    "    fov=30.0,\n",
    "    resolution=0.001,\n",
    "    batch_size=10_000,\n",
    "    max_empty_points=10_000,\n",
    "    max_close_points=10_000,\n",
    "    max_surface_points=10_000,\n",
    "    vector_field_mode=\"nearest_neighbor\"\n",
    ")\n",
    "print(f\"Time taken for creation: {((time.time() - s)  * 1000):.6f} ms\")\n",
    "measure_dataset(dataset)\n",
    "\n",
    "s = time.time()\n",
    "dataset = ShapeNetCoreDataset(\n",
    "    path=shapenet_path,\n",
    "    segments=10,\n",
    "    dist=2.0,\n",
    "    fov=30.0,\n",
    "    resolution=0.001,\n",
    "    batch_size=10_000,\n",
    "    max_empty_points=100_000,\n",
    "    max_close_points=100_000,\n",
    "    max_surface_points=100_000,\n",
    "    vector_field_mode=\"nearest_neighbor\"\n",
    ")\n",
    "print(f\"Time taken for creation: {((time.time() - s)  * 1000):.6f} ms\")\n",
    "measure_dataset(dataset)\n",
    "\n",
    "\n",
    "s = time.time()\n",
    "dataset = ShapeNetCoreDataset(\n",
    "    path=shapenet_path,\n",
    "    segments=10,\n",
    "    dist=2.0,\n",
    "    fov=30.0,\n",
    "    resolution=0.001,\n",
    "    batch_size=10_000,\n",
    "    max_empty_points=1_000_000,\n",
    "    max_close_points=1_000_000,\n",
    "    max_surface_points=1_000_000,\n",
    "    vector_field_mode=\"nearest_neighbor\"\n",
    ")\n",
    "print(f\"Time taken for creation: {((time.time() - s)  * 1000):.6f} ms\")\n",
    "measure_dataset(dataset)\n",
    "\n",
    "s = time.time()\n",
    "dataset = ShapeNetCoreDataset(\n",
    "    path=shapenet_path,\n",
    "    segments=10,\n",
    "    dist=2.0,\n",
    "    fov=30.0,\n",
    "    resolution=0.001,\n",
    "    batch_size=100_000,\n",
    "    max_empty_points=1_000_000,\n",
    "    max_close_points=1_000_000,\n",
    "    max_surface_points=1_000_000,\n",
    "    vector_field_mode=\"nearest_neighbor\"\n",
    ")\n",
    "print(f\"Time taken for creation: {((time.time() - s)  * 1000):.6f} ms\")\n",
    "measure_dataset(dataset)\n",
    "\n",
    "print(\"ShapeNetCoreChunkDataset\")\n",
    "\n",
    "s = time.time()\n",
    "dataset = ShapeNetCoreChunkDataset(\n",
    "    path=shapenet_path,\n",
    "    segments=10,\n",
    "    dist=2.0,\n",
    "    fov=30.0,\n",
    "    resolution=0.001,\n",
    "    num_chunks=100,\n",
    "    chunk_size=10_000,\n",
    "    max_empty_points=10_000,\n",
    "    max_close_points=10_000,\n",
    "    max_surface_points=10_000,\n",
    "    vector_field_mode=\"nearest_neighbor\"\n",
    ")\n",
    "print(f\"Time taken for creation: {((time.time() - s)  * 1000):.6f} ms\")\n",
    "measure_dataset(dataset)\n",
    "\n",
    "s = time.time()\n",
    "dataset = ShapeNetCoreChunkDataset(\n",
    "    path=shapenet_path,\n",
    "    segments=10,\n",
    "    dist=2.0,\n",
    "    fov=30.0,\n",
    "    resolution=0.001,\n",
    "    num_chunks=100,\n",
    "    chunk_size=10_000,\n",
    "    max_empty_points=100_000,\n",
    "    max_close_points=100_000,\n",
    "    max_surface_points=100_000,\n",
    "    vector_field_mode=\"nearest_neighbor\"\n",
    ")\n",
    "print(f\"Time taken for creation: {((time.time() - s)  * 1000):.6f} ms\")\n",
    "measure_dataset(dataset)\n",
    "\n",
    "s = time.time()\n",
    "dataset = ShapeNetCoreChunkDataset(\n",
    "    path=shapenet_path,\n",
    "    segments=10,\n",
    "    dist=2.0,\n",
    "    fov=30.0,\n",
    "    resolution=0.001,\n",
    "    num_chunks=100,\n",
    "    chunk_size=10_000,\n",
    "    max_empty_points=1_000_000,\n",
    "    max_close_points=1_000_000,\n",
    "    max_surface_points=1_000_000,\n",
    "    vector_field_mode=\"nearest_neighbor\"\n",
    ")\n",
    "print(f\"Time taken for creation: {((time.time() - s)  * 1000):.6f} ms\")\n",
    "measure_dataset(dataset)\n",
    "\n",
    "s = time.time()\n",
    "dataset = ShapeNetCoreChunkDataset(\n",
    "    path=shapenet_path,\n",
    "    segments=10,\n",
    "    dist=2.0,\n",
    "    fov=30.0,\n",
    "    resolution=0.001,\n",
    "    num_chunks=100,\n",
    "    chunk_size=100_000,\n",
    "    max_empty_points=1_000_000,\n",
    "    max_close_points=1_000_000,\n",
    "    max_surface_points=1_000_000,\n",
    "    vector_field_mode=\"nearest_neighbor\"\n",
    ")\n",
    "print(f\"Time taken for creation: {((time.time() - s)  * 1000):.6f} ms\")\n",
    "measure_dataset(dataset)\n"
   ]
  },
  {
   "cell_type": "code",
   "execution_count": 2,
   "metadata": {},
   "outputs": [
    {
     "name": "stdout",
     "output_type": "stream",
     "text": [
      "Time taken for creation: 29688.816309 ms\n",
      "Time taken for 100 iterations (GPU): 0.001185 ms\n"
     ]
    }
   ],
   "source": [
    "from neural_poisson.data.shapenet import ShapeNetCoreDataset \n",
    "from pathlib import Path\n",
    "import time\n",
    "\n",
    "# define the paths\n",
    "model_id = \"1a04e3eab45ca15dd86060f189eb133\"\n",
    "root_dir = Path(\"/home/borth/2d-gaussian-splatting/\")\n",
    "shapenet_dir = root_dir / \"data/ShapeNetCoreTiny/02691156\"\n",
    "shapenet_path = shapenet_dir / model_id / \"models/model_normalized.obj\"\n",
    "\n",
    "def measure_dataset(dataset, N=100):\n",
    "    start_time = time.time()\n",
    "    for i in range(N):\n",
    "        batch = dataset[i]\n",
    "    end_time = time.time()\n",
    "    duration = ((end_time - start_time) / N) * 1000\n",
    "    print(f\"Time taken for 100 iterations (GPU): {duration:.6f} ms\")\n",
    "\n",
    "s = time.time()\n",
    "dataset = ShapeNetCoreDataset(\n",
    "    path=shapenet_path,\n",
    "    segments=10,\n",
    "    dist=2.0,\n",
    "    fov=30.0,\n",
    "    resolution=0.001,\n",
    "    num_chunks=100,\n",
    "    chunk_size=10_000,\n",
    "    max_empty_points=100_000,\n",
    "    max_close_points=100_000,\n",
    "    max_surface_points=100_000,\n",
    "    vector_field_mode=\"nearest_neighbor\"\n",
    ")\n",
    "print(f\"Time taken for creation: {((time.time() - s)  * 1000):.6f} ms\")\n",
    "measure_dataset(dataset)\n"
   ]
  },
  {
   "cell_type": "code",
   "execution_count": null,
   "metadata": {},
   "outputs": [
    {
     "data": {
      "text/plain": [
       "torch.Size([100000, 3])"
      ]
     },
     "execution_count": 7,
     "metadata": {},
     "output_type": "execute_result"
    }
   ],
   "source": []
  },
  {
   "cell_type": "code",
   "execution_count": 5,
   "metadata": {},
   "outputs": [
    {
     "data": {
      "text/plain": [
       "torch.Size([100000, 3])"
      ]
     },
     "execution_count": 5,
     "metadata": {},
     "output_type": "execute_result"
    }
   ],
   "source": [
    "dataset.vectors_surface.shape"
   ]
  },
  {
   "cell_type": "code",
   "execution_count": 3,
   "metadata": {},
   "outputs": [],
   "source": [
    "from neural_poisson.model.neural_poisson import NeuralPoisson\n",
    "from neural_poisson.model.encoder import MLP\n",
    "\n",
    "model = NeuralPoisson(encoder=MLP).to(\"cuda\")"
   ]
  },
  {
   "cell_type": "code",
   "execution_count": 28,
   "metadata": {},
   "outputs": [
    {
     "data": {
      "application/vnd.jupyter.widget-view+json": {
       "model_id": "ecae7446738246a4adc4cf2e7d57ae60",
       "version_major": 2,
       "version_minor": 0
      },
      "text/plain": [
       "  0%|          | 0/100 [00:00<?, ?it/s]"
      ]
     },
     "metadata": {},
     "output_type": "display_data"
    },
    {
     "data": {
      "application/vnd.jupyter.widget-view+json": {
       "model_id": "4ab8943a11014e57b336d4a193e0be6e",
       "version_major": 2,
       "version_minor": 0
      },
      "text/plain": [
       "  0%|          | 0/100 [00:00<?, ?it/s]"
      ]
     },
     "metadata": {},
     "output_type": "display_data"
    },
    {
     "data": {
      "application/vnd.jupyter.widget-view+json": {
       "model_id": "222fe163cd4d428fa0ca4e3f735441b4",
       "version_major": 2,
       "version_minor": 0
      },
      "text/plain": [
       "  0%|          | 0/100 [00:00<?, ?it/s]"
      ]
     },
     "metadata": {},
     "output_type": "display_data"
    },
    {
     "data": {
      "application/vnd.jupyter.widget-view+json": {
       "model_id": "ca1ba1198b5b452c821c4fb05b49a58b",
       "version_major": 2,
       "version_minor": 0
      },
      "text/plain": [
       "  0%|          | 0/100 [00:00<?, ?it/s]"
      ]
     },
     "metadata": {},
     "output_type": "display_data"
    },
    {
     "data": {
      "application/vnd.jupyter.widget-view+json": {
       "model_id": "84e30806957448279f481ed90dfa4e45",
       "version_major": 2,
       "version_minor": 0
      },
      "text/plain": [
       "  0%|          | 0/100 [00:00<?, ?it/s]"
      ]
     },
     "metadata": {},
     "output_type": "display_data"
    },
    {
     "data": {
      "application/vnd.jupyter.widget-view+json": {
       "model_id": "73145711bcc0468b9e330a9691eadb90",
       "version_major": 2,
       "version_minor": 0
      },
      "text/plain": [
       "  0%|          | 0/100 [00:00<?, ?it/s]"
      ]
     },
     "metadata": {},
     "output_type": "display_data"
    },
    {
     "data": {
      "application/vnd.jupyter.widget-view+json": {
       "model_id": "0948389b27674bae99d3f0cd0fe5bfed",
       "version_major": 2,
       "version_minor": 0
      },
      "text/plain": [
       "  0%|          | 0/100 [00:00<?, ?it/s]"
      ]
     },
     "metadata": {},
     "output_type": "display_data"
    },
    {
     "data": {
      "application/vnd.jupyter.widget-view+json": {
       "model_id": "6e4b76a01bb747b9a37357e29e9783ca",
       "version_major": 2,
       "version_minor": 0
      },
      "text/plain": [
       "  0%|          | 0/100 [00:00<?, ?it/s]"
      ]
     },
     "metadata": {},
     "output_type": "display_data"
    },
    {
     "data": {
      "application/vnd.jupyter.widget-view+json": {
       "model_id": "6d77d35348d940c98cb84d53f91b5476",
       "version_major": 2,
       "version_minor": 0
      },
      "text/plain": [
       "  0%|          | 0/100 [00:00<?, ?it/s]"
      ]
     },
     "metadata": {},
     "output_type": "display_data"
    },
    {
     "data": {
      "application/vnd.jupyter.widget-view+json": {
       "model_id": "c6fc7f11c0d64733b009cbe4785c2603",
       "version_major": 2,
       "version_minor": 0
      },
      "text/plain": [
       "  0%|          | 0/100 [00:00<?, ?it/s]"
      ]
     },
     "metadata": {},
     "output_type": "display_data"
    }
   ],
   "source": [
    "from tqdm.notebook import tqdm\n",
    "import random\n",
    "import torch\n",
    "\n",
    "model = NeuralPoisson(encoder=MLP).to(\"cuda\")\n",
    "for _ in range(10):\n",
    "    for i in tqdm(range(len(dataset))):\n",
    "        batch = dataset[i]\n",
    "\n",
    "        # loss = model(batch[\"points_surface\"]).sum()\n",
    "        \n",
    "        # points = torch.cat([batch[\"points_surface\"], batch[\"points_surface\"], batch[\"points_surface\"]])\n",
    "        # loss = model(points).sum()\n",
    "\n",
    "        # loss1 = model(batch[\"points_surface\"]).sum()\n",
    "        # loss2 = model(batch[\"points_surface\"]).sum()\n",
    "        # loss3 = model(batch[\"points_surface\"]).sum()\n",
    "        # loss = loss1 + loss2 + loss3\n",
    "\n",
    "        loss = model.model_step(batch)[\"total_loss\"]\n",
    "\n",
    "        loss.backward()"
   ]
  },
  {
   "cell_type": "code",
   "execution_count": null,
   "metadata": {},
   "outputs": [],
   "source": []
  },
  {
   "cell_type": "code",
   "execution_count": 6,
   "metadata": {},
   "outputs": [
    {
     "data": {
      "text/plain": [
       "30"
      ]
     },
     "execution_count": 6,
     "metadata": {},
     "output_type": "execute_result"
    }
   ],
   "source": [
    "random.randint(0, len(dataset))"
   ]
  },
  {
   "cell_type": "code",
   "execution_count": null,
   "metadata": {},
   "outputs": [],
   "source": [
    "dataset.plot_point_cloud(\"points_surface\")"
   ]
  },
  {
   "cell_type": "code",
   "execution_count": null,
   "metadata": {},
   "outputs": [],
   "source": [
    "dataset.plot_normal_maps(False)"
   ]
  },
  {
   "cell_type": "code",
   "execution_count": null,
   "metadata": {},
   "outputs": [],
   "source": [
    "from neural_poisson.model.neural_poisson import NeuralPoisson\n",
    "import open3d as o3d\n",
    "\n",
    "ckpt_path = \"/home/borth/2d-gaussian-splatting/logs/2025-02-19/18-03-57/checkpoints/epoch_099.ckpt\"\n",
    "model = NeuralPoisson.load_from_checkpoint(ckpt_path)\n"
   ]
  },
  {
   "cell_type": "code",
   "execution_count": null,
   "metadata": {},
   "outputs": [],
   "source": [
    "model.isolevel = 0.25\n",
    "mesh = model.to_mesh()"
   ]
  },
  {
   "cell_type": "code",
   "execution_count": null,
   "metadata": {},
   "outputs": [],
   "source": [
    "mesh.compute_vertex_normals()\n",
    "o3d.visualization.draw_plotly([mesh])"
   ]
  }
 ],
 "metadata": {
  "accelerator": "GPU",
  "anp_metadata": {
   "path": "notebooks/render_textured_meshes.ipynb"
  },
  "bento_stylesheets": {
   "bento/extensions/flow/main.css": true,
   "bento/extensions/kernel_selector/main.css": true,
   "bento/extensions/kernel_ui/main.css": true,
   "bento/extensions/new_kernel/main.css": true,
   "bento/extensions/system_usage/main.css": true,
   "bento/extensions/theme/main.css": true
  },
  "colab": {
   "name": "render_textured_meshes.ipynb",
   "provenance": []
  },
  "disseminate_notebook_info": {
   "backup_notebook_id": "569222367081034"
  },
  "kernelspec": {
   "display_name": "2dgs",
   "language": "python",
   "name": "python3"
  },
  "language_info": {
   "codemirror_mode": {
    "name": "ipython",
    "version": 3
   },
   "file_extension": ".py",
   "mimetype": "text/x-python",
   "name": "python",
   "nbconvert_exporter": "python",
   "pygments_lexer": "ipython3",
   "version": "3.10.16"
  }
 },
 "nbformat": 4,
 "nbformat_minor": 1
}
