{
 "cells": [
  {
   "cell_type": "code",
   "execution_count": null,
   "metadata": {
    "colab": {},
    "colab_type": "code",
    "id": "nX99zdoffBLg"
   },
   "outputs": [],
   "source": [
    "import os\n",
    "import torch\n",
    "import matplotlib.pyplot as plt\n",
    "\n",
    "# Util function for loading meshes\n",
    "from pytorch3d.io import load_objs_as_meshes, load_obj\n",
    "\n",
    "# Data structures and functions for rendering\n",
    "from pytorch3d.structures import Meshes\n",
    "from pytorch3d.vis.plotly_vis import AxisArgs, plot_batch_individually, plot_scene\n",
    "from pytorch3d.renderer import (\n",
    "    look_at_view_transform,\n",
    "    FoVPerspectiveCameras, \n",
    "    PointLights, \n",
    "    Materials, \n",
    "    RasterizationSettings, \n",
    "    MeshRenderer, \n",
    "    MeshRasterizer,  \n",
    "    SoftPhongShader,\n",
    "    TexturesVertex,\n",
    ")\n",
    "\n",
    "# Setup\n",
    "device = torch.device(\"cuda:0\")\n",
    "torch.cuda.set_device(device)\n",
    "\n",
    "# Set paths\n",
    "DATA_DIR = \"/home/borth/2d-gaussian-splatting/data/ShapeNetCoreTiny/02691156/1a04e3eab45ca15dd86060f189eb133/models\"\n",
    "obj_filename = os.path.join(DATA_DIR, \"model_normalized.obj\")\n",
    "mesh = load_objs_as_meshes([obj_filename], device=device)"
   ]
  },
  {
   "cell_type": "code",
   "execution_count": null,
   "metadata": {},
   "outputs": [],
   "source": [
    "from neural_poisson.data.prepare import (\n",
    "    get_points_camera_space_attributes,\n",
    "    get_depth_camera_space_attributes,\n",
    "    compute_half_pixel_princial_point,\n",
    "    compute_focal_length_from_FoV,\n",
    "    rasterize_attributes,\n",
    "    depth_to_normals,\n",
    "    depth_to_points,\n",
    "    extract_surface_data,\n",
    "    uniform_sphere_cameras,\n",
    ")\n",
    "\n",
    "# initialize a camera and rasterizer\n",
    "image_size = 512\n",
    "segments = 20\n",
    "cameras = uniform_sphere_cameras(segments=segments)\n",
    "\n",
    "elev = 8\n",
    "azim = 1\n",
    "data = extract_surface_data(\n",
    "    camera=cameras[elev + azim * segments],\n",
    "    mesh=mesh,\n",
    "    image_size=image_size,\n",
    ")\n",
    "\n",
    "plt.imshow(data[\"normal_map\"][0].detach().cpu().numpy())"
   ]
  },
  {
   "cell_type": "code",
   "execution_count": null,
   "metadata": {},
   "outputs": [],
   "source": [
    "import open3d as o3d\n",
    "\n",
    "pcd = o3d.geometry.PointCloud()\n",
    "pcd.points = o3d.utility.Vector3dVector(data[\"points\"].detach().cpu().numpy())\n",
    "pcd.normals = o3d.utility.Vector3dVector(data[\"normals\"].detach().cpu().numpy())\n",
    "o3d.visualization.draw_plotly([pcd])\n"
   ]
  }
 ],
 "metadata": {
  "accelerator": "GPU",
  "anp_metadata": {
   "path": "notebooks/render_textured_meshes.ipynb"
  },
  "bento_stylesheets": {
   "bento/extensions/flow/main.css": true,
   "bento/extensions/kernel_selector/main.css": true,
   "bento/extensions/kernel_ui/main.css": true,
   "bento/extensions/new_kernel/main.css": true,
   "bento/extensions/system_usage/main.css": true,
   "bento/extensions/theme/main.css": true
  },
  "colab": {
   "name": "render_textured_meshes.ipynb",
   "provenance": []
  },
  "disseminate_notebook_info": {
   "backup_notebook_id": "569222367081034"
  },
  "kernelspec": {
   "display_name": "2dgs",
   "language": "python",
   "name": "python3"
  },
  "language_info": {
   "codemirror_mode": {
    "name": "ipython",
    "version": 3
   },
   "file_extension": ".py",
   "mimetype": "text/x-python",
   "name": "python",
   "nbconvert_exporter": "python",
   "pygments_lexer": "ipython3",
   "version": "3.10.16"
  }
 },
 "nbformat": 4,
 "nbformat_minor": 1
}
