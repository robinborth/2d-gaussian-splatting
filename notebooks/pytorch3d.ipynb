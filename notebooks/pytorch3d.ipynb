{
 "cells": [
  {
   "cell_type": "code",
   "execution_count": null,
   "metadata": {},
   "outputs": [],
   "source": [
    "from neural_poisson.data.shapenet import ShapeNetCoreDataset\n",
    "import matplotlib.pyplot as plt\n",
    "from pathlib import Path\n",
    "\n",
    "# define the paths\n",
    "model_id = \"1a04e3eab45ca15dd86060f189eb133\"\n",
    "root_dir = Path(\"/home/borth/2d-gaussian-splatting/\")\n",
    "shapenet_dir = root_dir / \"data/ShapeNetCoreTiny/02691156\"\n",
    "shapenet_path = shapenet_dir / model_id / \"models/model_normalized.obj\"\n",
    "\n",
    "# load the dataset\n",
    "dataset = ShapeNetCoreDataset(\n",
    "    path=shapenet_path,\n",
    "    segments=6,\n",
    "    resolution=0.005,\n",
    "    empty_space_max_ratio=1.0,\n",
    "    vector_field_mode=\"nearest_neighbor\"\n",
    ")"
   ]
  },
  {
   "cell_type": "code",
   "execution_count": null,
   "metadata": {},
   "outputs": [],
   "source": [
    "dataset.plot_point_cloud(\"surface_normals\")"
   ]
  },
  {
   "cell_type": "code",
   "execution_count": null,
   "metadata": {},
   "outputs": [],
   "source": [
    "dataset.plot_normal_maps(False)"
   ]
  },
  {
   "cell_type": "code",
   "execution_count": null,
   "metadata": {},
   "outputs": [],
   "source": [
    "from neural_poisson.model.neural_poisson import NeuralPoisson\n",
    "import open3d as o3d\n",
    "\n",
    "ckpt_path = \"/home/borth/2d-gaussian-splatting/logs/2025-02-19/14-49-43/checkpoints/epoch_339.ckpt\"\n",
    "model = NeuralPoisson.load_from_checkpoint(ckpt_path)\n",
    "mesh = model.to_mesh()\n",
    "mesh.compute_vertex_normals()\n",
    "o3d.visualization.draw_plotly([mesh])"
   ]
  }
 ],
 "metadata": {
  "accelerator": "GPU",
  "anp_metadata": {
   "path": "notebooks/render_textured_meshes.ipynb"
  },
  "bento_stylesheets": {
   "bento/extensions/flow/main.css": true,
   "bento/extensions/kernel_selector/main.css": true,
   "bento/extensions/kernel_ui/main.css": true,
   "bento/extensions/new_kernel/main.css": true,
   "bento/extensions/system_usage/main.css": true,
   "bento/extensions/theme/main.css": true
  },
  "colab": {
   "name": "render_textured_meshes.ipynb",
   "provenance": []
  },
  "disseminate_notebook_info": {
   "backup_notebook_id": "569222367081034"
  },
  "kernelspec": {
   "display_name": "2dgs",
   "language": "python",
   "name": "python3"
  },
  "language_info": {
   "codemirror_mode": {
    "name": "ipython",
    "version": 3
   },
   "file_extension": ".py",
   "mimetype": "text/x-python",
   "name": "python",
   "nbconvert_exporter": "python",
   "pygments_lexer": "ipython3",
   "version": "3.10.16"
  }
 },
 "nbformat": 4,
 "nbformat_minor": 1
}
