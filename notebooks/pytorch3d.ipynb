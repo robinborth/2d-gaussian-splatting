{
 "cells": [
  {
   "cell_type": "code",
   "execution_count": null,
   "metadata": {},
   "outputs": [],
   "source": [
    "from neural_poisson.data.shapenet import ShapeNetCoreDataset\n",
    "from pathlib import Path\n",
    "import time\n",
    "\n",
    "def measure_dataset(dataset, N=100):\n",
    "    start_time = time.time()\n",
    "    for i in range(N):\n",
    "        batch = dataset[i]\n",
    "    end_time = time.time()\n",
    "    duration = ((end_time - start_time) / N) * 1000\n",
    "    print(f\"Time taken for 100 iterations (GPU): {duration:.6f} ms\")\n",
    "\n",
    "# define the paths\n",
    "model_id = \"1a04e3eab45ca15dd86060f189eb133\"\n",
    "root_dir = Path(\"/home/borth/2d-gaussian-splatting/\")\n",
    "shapenet_dir = root_dir / \"data/ShapeNetCoreTiny/02691156\"\n",
    "shapenet_path = shapenet_dir / model_id / \"models/model_normalized.obj\"\n",
    "\n",
    "# load the dataset\n",
    "dataset = ShapeNetCoreDataset(\n",
    "    path=shapenet_path,\n",
    "    segments=10,\n",
    "    dist=2.0,\n",
    "    fov=30.0,\n",
    "    resolution=0.001,\n",
    "    batch_size=10_000,\n",
    "    max_empty_points=100_000,\n",
    "    max_close_points=100_000,\n",
    "    max_surface_points=100_000,\n",
    "    vector_field_mode=\"nearest_neighbor\"\n",
    ")\n",
    "measure_dataset(dataset)\n",
    "\n",
    "\n",
    "dataset = ShapeNetCoreDataset(\n",
    "    path=shapenet_path,\n",
    "    segments=10,\n",
    "    dist=2.0,\n",
    "    fov=30.0,\n",
    "    resolution=0.001,\n",
    "    batch_size=10_000,\n",
    "    max_empty_points=10_000,\n",
    "    max_close_points=10_000,\n",
    "    max_surface_points=10_000,\n",
    "    vector_field_mode=\"nearest_neighbor\"\n",
    ")\n",
    "measure_dataset(dataset)\n"
   ]
  },
  {
   "cell_type": "code",
   "execution_count": null,
   "metadata": {},
   "outputs": [],
   "source": [
    "from neural_poisson.model.neural_poisson import NeuralPoisson\n",
    "from neural_poisson.model.encoder import MLP\n",
    "\n",
    "model = NeuralPoisson(encoder=MLP).to(\"cuda\")"
   ]
  },
  {
   "cell_type": "code",
   "execution_count": null,
   "metadata": {},
   "outputs": [],
   "source": [
    "import torch\n",
    "import torch.utils.benchmark as benchmark\n",
    "\n",
    "# Run the benchmark\n",
    "t0 = benchmark.Timer(\n",
    "    stmt=\"model(p)\",  # Statement to benchmark\n",
    "    setup=\"import torch\",  # Setup code to run before the benchmark\n",
    "    globals={\"model\": model, \"p\": p2},  # Ensure model and p2 are in the globals\n",
    ")\n",
    "\n",
    "# Print the results\n",
    "print(t0.timeit(100))  # Run the statement 100 times and get the average time\n"
   ]
  },
  {
   "cell_type": "code",
   "execution_count": null,
   "metadata": {},
   "outputs": [],
   "source": [
    "from tqdm.notebook import tqdm\n",
    "N = 10_000\n",
    "dataset.batch_size = 10_000\n",
    "for i in tqdm(range(N)):\n",
    "    batch = dataset[i]\n",
    "    # model(batch[\"points_surface\"])"
   ]
  },
  {
   "cell_type": "code",
   "execution_count": null,
   "metadata": {},
   "outputs": [],
   "source": [
    "dataset.plot_point_cloud(\"points_surface\")"
   ]
  },
  {
   "cell_type": "code",
   "execution_count": null,
   "metadata": {},
   "outputs": [],
   "source": [
    "dataset.plot_normal_maps(False)"
   ]
  },
  {
   "cell_type": "code",
   "execution_count": null,
   "metadata": {},
   "outputs": [],
   "source": [
    "from neural_poisson.model.neural_poisson import NeuralPoisson\n",
    "import open3d as o3d\n",
    "\n",
    "ckpt_path = \"/home/borth/2d-gaussian-splatting/logs/2025-02-19/18-03-57/checkpoints/epoch_099.ckpt\"\n",
    "model = NeuralPoisson.load_from_checkpoint(ckpt_path)\n"
   ]
  },
  {
   "cell_type": "code",
   "execution_count": null,
   "metadata": {},
   "outputs": [],
   "source": [
    "model.isolevel = 0.25\n",
    "mesh = model.to_mesh()"
   ]
  },
  {
   "cell_type": "code",
   "execution_count": null,
   "metadata": {},
   "outputs": [],
   "source": [
    "mesh.compute_vertex_normals()\n",
    "o3d.visualization.draw_plotly([mesh])"
   ]
  }
 ],
 "metadata": {
  "accelerator": "GPU",
  "anp_metadata": {
   "path": "notebooks/render_textured_meshes.ipynb"
  },
  "bento_stylesheets": {
   "bento/extensions/flow/main.css": true,
   "bento/extensions/kernel_selector/main.css": true,
   "bento/extensions/kernel_ui/main.css": true,
   "bento/extensions/new_kernel/main.css": true,
   "bento/extensions/system_usage/main.css": true,
   "bento/extensions/theme/main.css": true
  },
  "colab": {
   "name": "render_textured_meshes.ipynb",
   "provenance": []
  },
  "disseminate_notebook_info": {
   "backup_notebook_id": "569222367081034"
  },
  "kernelspec": {
   "display_name": "2dgs",
   "language": "python",
   "name": "python3"
  },
  "language_info": {
   "codemirror_mode": {
    "name": "ipython",
    "version": 3
   },
   "file_extension": ".py",
   "mimetype": "text/x-python",
   "name": "python",
   "nbconvert_exporter": "python",
   "pygments_lexer": "ipython3",
   "version": "3.10.16"
  }
 },
 "nbformat": 4,
 "nbformat_minor": 1
}
