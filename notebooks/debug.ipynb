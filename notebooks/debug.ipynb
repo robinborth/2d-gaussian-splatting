{
 "cells": [
  {
   "cell_type": "code",
   "execution_count": 60,
   "metadata": {},
   "outputs": [
    {
     "name": "stdout",
     "output_type": "stream",
     "text": [
      "Time taken: 30.559619 ms\n",
      "Time taken: 7.338509 ms\n"
     ]
    }
   ],
   "source": [
    "import torch\n",
    "import time\n",
    "\n",
    "device = \"cuda\"\n",
    "N = 10_000_000\n",
    "S = 1_000_000\n",
    "points = torch.rand(N, 3, device=device)\n",
    "\n",
    "start = time.perf_counter()\n",
    "indices = torch.randint(0, N, (S,))  # Sample indices directly\n",
    "subset = points[indices]\n",
    "end = time.perf_counter()\n",
    "print(f\"Time taken: {(end - start) * 1000:.6f} ms\")\n",
    "\n",
    "torch.cuda.synchronize()  # Ensure previous operations are done\n",
    "start = time.perf_counter()\n",
    "points[torch.randperm(N, device=device)[:S]]\n",
    "torch.cuda.synchronize()  # Ensure operation is completed\n",
    "end = time.perf_counter()\n",
    "print(f\"Time taken: {(end - start) * 1000:.6f} ms\")\n",
    "\n",
    "# start = time.perf_counter()\n",
    "# indices = torch.multinomial(torch.ones(N), S, replacement=False)  # Sample without replacement\n",
    "# subset = points[indices]\n",
    "# end = time.perf_counter()\n",
    "# print(f\"Time taken: {(end - start) * 1000:.6f} ms\")"
   ]
  },
  {
   "cell_type": "code",
   "execution_count": null,
   "metadata": {},
   "outputs": [
    {
     "name": "stdout",
     "output_type": "stream",
     "text": [
      "Memory used before: 1.20 MB\n",
      "Memory used after: 1.20 MB\n",
      "Memory difference: 0.00 MB\n"
     ]
    }
   ],
   "source": [
    "import torch\n",
    "from neural_poisson.data.prepare import select_random_points\n",
    "\n",
    "device = \"cuda\"\n",
    "N = 100_000\n",
    "S = 100_000\n",
    "points = torch.rand(N, 3, device=device)\n",
    "\n",
    "torch.cuda.synchronize()\n",
    "mem_before = torch.cuda.memory_allocated(device)\n",
    "\n",
    "# Run function\n",
    "points = select_random_points(points=points, max_samples=S)\n",
    "\n",
    "torch.cuda.synchronize()\n",
    "mem_after = torch.cuda.memory_allocated(device)\n",
    "print(f\"Memory used after: {mem_after / 1e6:.2f} MB\")\n",
    "\n",
    "# Free unused cached memory\n",
    "torch.cuda.empty_cache()\n",
    "\n",
    "print(f\"Memory used before: {mem_before / 1e6:.2f} MB\")\n",
    "print(f\"Memory difference: {(mem_after - mem_before) / 1e6:.2f} MB\")\n"
   ]
  },
  {
   "cell_type": "code",
   "execution_count": 1,
   "metadata": {},
   "outputs": [
    {
     "name": "stdout",
     "output_type": "stream",
     "text": [
      "Jupyter environment detected. Enabling Open3D WebVisualizer.\n",
      "[Open3D INFO] WebRTC GUI backend enabled.\n",
      "[Open3D INFO] WebRTCWindowSystem: HTTP handshake server disabled.\n"
     ]
    }
   ],
   "source": [
    "import torch\n",
    "import math\n",
    "from collections import defaultdict\n",
    "from neural_poisson.data.prepare import compute_chunks\n",
    "\n",
    "num_chunks = 4\n",
    "chunk_size = 50_000\n",
    "points = torch.rand(200_000, 3) \n",
    "values = [points]\n",
    "c1, c2 = compute_chunks(num_chunks=num_chunks, chunk_size=chunk_size, values=[points, points])\n"
   ]
  },
  {
   "cell_type": "code",
   "execution_count": null,
   "metadata": {},
   "outputs": [
    {
     "data": {
      "text/plain": [
       "tensor([[0.2134, 0.0792, 0.3794],\n",
       "        [0.1790, 0.8268, 0.6921],\n",
       "        [0.3217, 0.7847, 0.8935],\n",
       "        ...,\n",
       "        [0.9791, 0.7663, 0.2652],\n",
       "        [0.6422, 0.0134, 0.0133],\n",
       "        [0.0294, 0.0601, 0.4536]])"
      ]
     },
     "execution_count": 31,
     "metadata": {},
     "output_type": "execute_result"
    }
   ],
   "source": []
  },
  {
   "cell_type": "code",
   "execution_count": null,
   "metadata": {},
   "outputs": [],
   "source": []
  }
 ],
 "metadata": {
  "kernelspec": {
   "display_name": "2dgs",
   "language": "python",
   "name": "python3"
  },
  "language_info": {
   "codemirror_mode": {
    "name": "ipython",
    "version": 3
   },
   "file_extension": ".py",
   "mimetype": "text/x-python",
   "name": "python",
   "nbconvert_exporter": "python",
   "pygments_lexer": "ipython3",
   "version": "3.10.16"
  }
 },
 "nbformat": 4,
 "nbformat_minor": 2
}
