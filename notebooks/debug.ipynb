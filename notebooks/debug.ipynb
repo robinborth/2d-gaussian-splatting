{
 "cells": [
  {
   "cell_type": "code",
   "execution_count": 60,
   "metadata": {},
   "outputs": [
    {
     "name": "stdout",
     "output_type": "stream",
     "text": [
      "Time taken: 30.559619 ms\n",
      "Time taken: 7.338509 ms\n"
     ]
    }
   ],
   "source": [
    "import torch\n",
    "import time\n",
    "\n",
    "device = \"cuda\"\n",
    "N = 10_000_000\n",
    "S = 1_000_000\n",
    "points = torch.rand(N, 3, device=device)\n",
    "\n",
    "start = time.perf_counter()\n",
    "indices = torch.randint(0, N, (S,))  # Sample indices directly\n",
    "subset = points[indices]\n",
    "end = time.perf_counter()\n",
    "print(f\"Time taken: {(end - start) * 1000:.6f} ms\")\n",
    "\n",
    "torch.cuda.synchronize()  # Ensure previous operations are done\n",
    "start = time.perf_counter()\n",
    "points[torch.randperm(N, device=device)[:S]]\n",
    "torch.cuda.synchronize()  # Ensure operation is completed\n",
    "end = time.perf_counter()\n",
    "print(f\"Time taken: {(end - start) * 1000:.6f} ms\")\n",
    "\n",
    "# start = time.perf_counter()\n",
    "# indices = torch.multinomial(torch.ones(N), S, replacement=False)  # Sample without replacement\n",
    "# subset = points[indices]\n",
    "# end = time.perf_counter()\n",
    "# print(f\"Time taken: {(end - start) * 1000:.6f} ms\")"
   ]
  },
  {
   "cell_type": "code",
   "execution_count": null,
   "metadata": {},
   "outputs": [
    {
     "name": "stdout",
     "output_type": "stream",
     "text": [
      "Memory used before: 1.20 MB\n",
      "Memory used after: 1.20 MB\n",
      "Memory difference: 0.00 MB\n"
     ]
    }
   ],
   "source": [
    "import torch\n",
    "from neural_poisson.data.prepare import select_random_points\n",
    "\n",
    "device = \"cuda\"\n",
    "N = 100_000\n",
    "S = 100_000\n",
    "points = torch.rand(N, 3, device=device)\n",
    "\n",
    "torch.cuda.synchronize()\n",
    "mem_before = torch.cuda.memory_allocated(device)\n",
    "\n",
    "# Run function\n",
    "points = select_random_points(points=points, max_samples=S)\n",
    "\n",
    "torch.cuda.synchronize()\n",
    "mem_after = torch.cuda.memory_allocated(device)\n",
    "print(f\"Memory used after: {mem_after / 1e6:.2f} MB\")\n",
    "\n",
    "# Free unused cached memory\n",
    "torch.cuda.empty_cache()\n",
    "\n",
    "print(f\"Memory used before: {mem_before / 1e6:.2f} MB\")\n",
    "print(f\"Memory difference: {(mem_after - mem_before) / 1e6:.2f} MB\")\n"
   ]
  }
 ],
 "metadata": {
  "kernelspec": {
   "display_name": "2dgs",
   "language": "python",
   "name": "python3"
  },
  "language_info": {
   "codemirror_mode": {
    "name": "ipython",
    "version": 3
   },
   "file_extension": ".py",
   "mimetype": "text/x-python",
   "name": "python",
   "nbconvert_exporter": "python",
   "pygments_lexer": "ipython3",
   "version": "3.10.16"
  }
 },
 "nbformat": 4,
 "nbformat_minor": 2
}
