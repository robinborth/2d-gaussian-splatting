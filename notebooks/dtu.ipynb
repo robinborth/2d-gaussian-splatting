{
 "cells": [
  {
   "cell_type": "code",
   "execution_count": null,
   "metadata": {},
   "outputs": [],
   "source": [
    "import torch\n",
    "from pathlib import Path\n",
    "import numpy as np\n",
    "import matplotlib.pyplot as plt\n",
    "import open3d as o3d\n",
    "\n",
    "DATA_DIR = \"/home/borth/2d-gaussian-splatting/data/DTU\"\n",
    "SCAN_ID = \"scan37\"\n"
   ]
  },
  {
   "cell_type": "markdown",
   "metadata": {},
   "source": [
    "# Camera Data"
   ]
  },
  {
   "cell_type": "code",
   "execution_count": null,
   "metadata": {},
   "outputs": [],
   "source": [
    "cameras = np.load(Path(DATA_DIR, SCAN_ID, \"cameras.npz\"))\n",
    "print(list(cameras.keys()))"
   ]
  },
  {
   "cell_type": "code",
   "execution_count": null,
   "metadata": {},
   "outputs": [],
   "source": [
    "ply_path = Path(DATA_DIR, SCAN_ID, \"points.ply\")\n",
    "visualize_scene(ply_path)"
   ]
  },
  {
   "cell_type": "code",
   "execution_count": null,
   "metadata": {},
   "outputs": [],
   "source": [
    "path = \"/home/borth/2d-gaussian-splatting/output/input.ply\"\n",
    "visualize_scene(ply_path)"
   ]
  },
  {
   "cell_type": "code",
   "execution_count": null,
   "metadata": {},
   "outputs": [],
   "source": [
    "import torch\n",
    "\n",
    "idx = 0\n",
    "depth_map = torch.load(Path(DATA_DIR, SCAN_ID, f\"depths/{idx:04}.pt\"), weights_only=False)\n",
    "print(depth_map.keys())\n",
    "print(depth_map[\"depth\"], depth_map[\"depth\"].shape)\n",
    "print(depth_map[\"coord\"], depth_map[\"coord\"].shape)\n",
    "print(depth_map[\"error\"], depth_map[\"error\"].shape)\n",
    "print(depth_map[\"weight\"], depth_map[\"weight\"].shape)"
   ]
  },
  {
   "cell_type": "code",
   "execution_count": null,
   "metadata": {},
   "outputs": [],
   "source": []
  },
  {
   "cell_type": "code",
   "execution_count": null,
   "metadata": {},
   "outputs": [],
   "source": [
    "from PIL import Image\n",
    "img = Image.open(\"/home/borth/2d-gaussian-splatting/data/DTU/scan24/mask/000.png\")\n",
    "img"
   ]
  },
  {
   "cell_type": "code",
   "execution_count": null,
   "metadata": {},
   "outputs": [],
   "source": [
    "from PIL import Image\n",
    "img = Image.open(\"/home/borth/2d-gaussian-splatting/data/DTU/scan24/images/0000.png\")\n",
    "np.asarray(img).shape"
   ]
  },
  {
   "cell_type": "code",
   "execution_count": null,
   "metadata": {},
   "outputs": [],
   "source": [
    "import trimesh\n",
    "import open3d as o3d\n",
    "\n",
    "# Load the mesh with trimesh\n",
    "mesh = trimesh.load_mesh(\"/home/borth/2d-gaussian-splatting/output/11-02-25/scan55/train/ours_30000/fuse_post.ply\")\n",
    "\n",
    "# Convert trimesh to open3d format\n",
    "o3d_mesh = o3d.geometry.TriangleMesh()\n",
    "o3d_mesh.vertices = o3d.utility.Vector3dVector(mesh.vertices)\n",
    "o3d_mesh.triangles = o3d.utility.Vector3iVector(mesh.faces)\n",
    "\n",
    "# Compute normals for better visualization\n",
    "o3d_mesh.compute_vertex_normals()\n",
    "\n",
    "# Visualize with open3d\n",
    "o3d.visualization.draw_plotly([o3d_mesh])\n"
   ]
  }
 ],
 "metadata": {
  "kernelspec": {
   "display_name": "2dgs",
   "language": "python",
   "name": "python3"
  },
  "language_info": {
   "codemirror_mode": {
    "name": "ipython",
    "version": 3
   },
   "file_extension": ".py",
   "mimetype": "text/x-python",
   "name": "python",
   "nbconvert_exporter": "python",
   "pygments_lexer": "ipython3",
   "version": "3.8.18"
  }
 },
 "nbformat": 4,
 "nbformat_minor": 2
}
