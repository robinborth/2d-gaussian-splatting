{
 "cells": [
  {
   "cell_type": "code",
   "execution_count": null,
   "metadata": {},
   "outputs": [],
   "source": [
    "import torch\n",
    "from pathlib import Path\n",
    "import numpy as np\n",
    "import matplotlib.pyplot as plt\n",
    "import open3d as o3d\n",
    "\n",
    "DATA_DIR = \"/home/borth/2d-gaussian-splatting/data/DTU\"\n",
    "SCAN_ID = \"scan37\"\n"
   ]
  },
  {
   "cell_type": "markdown",
   "metadata": {},
   "source": [
    "# Camera Data"
   ]
  },
  {
   "cell_type": "code",
   "execution_count": null,
   "metadata": {},
   "outputs": [],
   "source": [
    "cameras = np.load(Path(DATA_DIR, SCAN_ID, \"cameras.npz\"))\n",
    "print(list(cameras.keys()))"
   ]
  },
  {
   "cell_type": "code",
   "execution_count": null,
   "metadata": {},
   "outputs": [],
   "source": [
    "ply_path = Path(DATA_DIR, SCAN_ID, \"points.ply\")\n",
    "visualize_scene(ply_path)"
   ]
  },
  {
   "cell_type": "code",
   "execution_count": null,
   "metadata": {},
   "outputs": [],
   "source": [
    "path = \"/home/borth/2d-gaussian-splatting/output/input.ply\"\n",
    "visualize_scene(ply_path)"
   ]
  },
  {
   "cell_type": "code",
   "execution_count": null,
   "metadata": {},
   "outputs": [],
   "source": [
    "import torch\n",
    "\n",
    "idx = 0\n",
    "depth_map = torch.load(Path(DATA_DIR, SCAN_ID, f\"depths/{idx:04}.pt\"), weights_only=False)\n",
    "print(depth_map.keys())\n",
    "print(depth_map[\"depth\"], depth_map[\"depth\"].shape)\n",
    "print(depth_map[\"coord\"], depth_map[\"coord\"].shape)\n",
    "print(depth_map[\"error\"], depth_map[\"error\"].shape)\n",
    "print(depth_map[\"weight\"], depth_map[\"weight\"].shape)"
   ]
  },
  {
   "cell_type": "code",
   "execution_count": null,
   "metadata": {},
   "outputs": [],
   "source": []
  },
  {
   "cell_type": "code",
   "execution_count": null,
   "metadata": {},
   "outputs": [],
   "source": [
    "from PIL import Image\n",
    "img = Image.open(\"/home/borth/2d-gaussian-splatting/data/DTU/scan24/mask/000.png\")\n",
    "img"
   ]
  },
  {
   "cell_type": "code",
   "execution_count": null,
   "metadata": {},
   "outputs": [],
   "source": [
    "from PIL import Image\n",
    "img = Image.open(\"/home/borth/2d-gaussian-splatting/data/DTU/scan24/images/0000.png\")\n",
    "np.asarray(img).shape"
   ]
  },
  {
   "cell_type": "code",
   "execution_count": null,
   "metadata": {},
   "outputs": [],
   "source": [
    "import trimesh\n",
    "import open3d as o3d\n",
    "\n",
    "# Load the mesh with trimesh\n",
    "mesh = trimesh.load_mesh(\"/home/borth/2d-gaussian-splatting/logs/2025-02-13/15-00-53/train/ours_100/fuse_cull.ply\")\n"
   ]
  },
  {
   "cell_type": "code",
   "execution_count": null,
   "metadata": {},
   "outputs": [],
   "source": [
    "import open3d as o3d\n",
    "\n",
    "# Load the mesh\n",
    "path = \"/home/borth/2d-gaussian-splatting/logs/2025-02-13/15-00-53/train/ours_100/fuse_cull.ply\"\n",
    "mesh = o3d.io.read_triangle_mesh(path)\n",
    "\n",
    "# Compute normals for better shading\n",
    "# mesh.compute_vertex_normals()\n",
    "\n",
    "# Visualize the mesh\n",
    "o3d.visualization.draw_plotly([mesh], window_name=\"Mesh Viewer\")\n"
   ]
  },
  {
   "cell_type": "code",
   "execution_count": null,
   "metadata": {},
   "outputs": [],
   "source": [
    "from hydra import compose, initialize\n",
    "from lib.scene import Scene, GaussianModel\n",
    "from lib.utils.mesh_utils import to_cam_open3d\n",
    "import open3d as o3d\n",
    "\n",
    "with initialize(config_path=\"./conf\", version_base=None):\n",
    "    cfg = compose(config_name=\"train\", overrides=[])\n",
    "\n",
    "cfg.dataset.model_path = \"\"\n",
    "gaussians = GaussianModel(cfg.dataset.sh_degree)\n",
    "scene = Scene(cfg.dataset, gaussians)\n",
    "cameras = to_cam_open3d(scene.getTrainCameras())\n"
   ]
  },
  {
   "cell_type": "code",
   "execution_count": null,
   "metadata": {},
   "outputs": [],
   "source": [
    "import open3d as o3d\n",
    "\n",
    "# load the mesh\n",
    "path = \"/home/borth/2d-gaussian-splatting/logs/2025-02-13/15-00-53/train/ours_100/fuse_cull.ply\"\n",
    "mesh = o3d.io.read_triangle_mesh(path)\n",
    "mesh.compute_vertex_normals()  # Optionally compute normals for shading\n",
    "\n",
    "# Create an offscreen renderer\n",
    "renderer = o3d.visualization.rendering.OffscreenRenderer(800, 600)\n",
    "\n",
    "\n",
    "# Create material for the mesh\n",
    "material = o3d.visualization.rendering.MaterialRecord()\n",
    "material.base_color = (0.8, 0.8, 0.8, 1.0)  # Example: Light gray color\n",
    "material.shader = \"defaultLit\"\n",
    "\n",
    "# Add the mesh to the scene\n",
    "renderer.scene.add_geometry(\"mesh\", mesh, material)\n",
    "\n",
    "# Set up the camera\n",
    "# scene.camera.intrinsic = cameras[0].intrinsic\n",
    "# scene.camera.extrinsic = cameras[0].extrinsic\n",
    "\n",
    "# Add custom lighting\n",
    "light = o3d.visualization.rendering.DirectionalLight(color=(1.0, 1.0, 1.0), intensity=1.0)\n",
    "renderer.scene.add_light(light, pose=[[1, 0, 0, 2], [0, 1, 0, 2], [0, 0, 1, 2], [0, 0, 0, 1]])\n",
    "\n",
    "\n",
    "# Set camera pose (if you have the camera pose)\n",
    "eye = [0, 0, 2]  # Camera position\n",
    "center = mesh.get_center()  # Look at the mesh's center\n",
    "up = [0, 1, 0]  # 'Up' direction\n",
    "\n",
    "# You can directly modify the camera's pose\n",
    "renderer.scene.camera.set_camera_pose(center, eye, up)\n",
    "\n",
    "# Render the scene to an image\n",
    "img = renderer.render_to_image()\n",
    "\n",
    "# Save the image\n",
    "o3d.io.write_image(\"rendered_mesh_with_lighting.png\", img)\n",
    "\n",
    "# Free resources\n",
    "renderer = None\n",
    "from PIL import Image\n",
    "import numpy as np\n",
    "Image.fromarray(np.asarray(img))\n"
   ]
  },
  {
   "cell_type": "code",
   "execution_count": 2,
   "metadata": {},
   "outputs": [
    {
     "ename": "",
     "evalue": "",
     "output_type": "error",
     "traceback": [
      "\u001b[1;31mThe Kernel crashed while executing code in the current cell or a previous cell. \n",
      "\u001b[1;31mPlease review the code in the cell(s) to identify a possible cause of the failure. \n",
      "\u001b[1;31mClick <a href='https://aka.ms/vscodeJupyterKernelCrash'>here</a> for more info. \n",
      "\u001b[1;31mView Jupyter <a href='command:jupyter.viewOutput'>log</a> for further details."
     ]
    }
   ],
   "source": [
    "import open3d as o3d\n",
    "\n",
    "# Load the mesh\n",
    "path = \"/home/borth/2d-gaussian-splatting/logs/2025-02-13/15-00-53/train/ours_100/fuse_cull.ply\"\n",
    "mesh = o3d.io.read_triangle_mesh(path)\n",
    "mesh.compute_vertex_normals()  # Optionally compute normals for shading\n",
    "\n",
    "# Create an offscreen renderer\n",
    "renderer = o3d.visualization.rendering.OffscreenRenderer(800, 600)\n",
    "\n",
    "# Create material for the mesh\n",
    "material = o3d.visualization.rendering.MaterialRecord()\n",
    "material.base_color = (0.8, 0.8, 0.8, 1.0)  # Example: Light gray color\n",
    "material.shader = \"defaultLit\"\n",
    "\n",
    "# Add the mesh to the scene\n",
    "renderer.scene.add_geometry(\"mesh\", mesh, material)\n",
    "\n",
    "# Set up the camera\n",
    "bounds = mesh.get_axis_aligned_bounding_box()\n",
    "center = bounds.get_center()\n",
    "eye = center + [0, 0, 2]  # Move the camera back\n",
    "renderer.scene.camera.look_at(center, eye, [0, 1, 0])\n",
    "\n",
    "# Add custom lighting\n",
    "# light = o3d.visualization.rendering.DirectionalLight(color=(1.0, 1.0, 1.0), intensity=1.0)\n",
    "# renderer.scene.add_light(light, pose=[[1, 0, 0, 2], [0, 1, 0, 2], [0, 0, 1, 2], [0, 0, 0, 1]])\n",
    "\n",
    "# Render the scene to an image\n",
    "img = renderer.render_to_image()\n",
    "\n",
    "# Save the image\n",
    "o3d.io.write_image(\"rendered_mesh_with_lighting.png\", img)\n",
    "\n",
    "# Free resources\n",
    "renderer = None"
   ]
  },
  {
   "cell_type": "code",
   "execution_count": null,
   "metadata": {},
   "outputs": [],
   "source": []
  },
  {
   "cell_type": "code",
   "execution_count": null,
   "metadata": {},
   "outputs": [],
   "source": [
    "np.asarray(mesh.vertices)"
   ]
  },
  {
   "cell_type": "code",
   "execution_count": null,
   "metadata": {},
   "outputs": [],
   "source": [
    "center"
   ]
  },
  {
   "cell_type": "code",
   "execution_count": null,
   "metadata": {},
   "outputs": [],
   "source": [
    "import trimesh\n",
    "import pyrender\n",
    "import numpy as np\n",
    "import matplotlib.pyplot as plt\n",
    "import os\n",
    "os.environ[\"PYOPENGL_PLATFORM\"] = \"egl\"  # or \"egl\" if using a GPU\n",
    "\n",
    "\n",
    "# Create a simple sphere mesh\n",
    "mesh = trimesh.load_mesh(\"/home/borth/2d-gaussian-splatting/logs/2025-02-13/10-15-18/train/ours_10/fuse_cull.ply\") \n",
    "\n",
    "# Convert to pyrender format\n",
    "mesh_pyrender = pyrender.Mesh.from_trimesh(mesh)\n",
    "\n",
    "# Create a scene\n",
    "scene = pyrender.Scene()\n",
    "scene.add(mesh_pyrender)\n",
    "\n",
    "# Add a camera\n",
    "camera = pyrender.PerspectiveCamera(yfov=np.pi / 2.0)\n",
    "scene.add(camera, pose=np.array([\n",
    "    [1, 0, 0, 0],\n",
    "    [0, 1, 0, 0],\n",
    "    [0, 0, 1, 5],\n",
    "    [0, 0, 0, 1]\n",
    "]))\n",
    "\n",
    "# Add a light source\n",
    "# light = pyrender.DirectionalLight(color=np.ones(3), intensity=2.0)\n",
    "# scene.add(light, pose=np.array([\n",
    "#     [1, 0, 0, 1],\n",
    "#     [0, 1, 0, 1],\n",
    "#     [0, 0, 1, 1],\n",
    "#     [0, 0, 0, 1]\n",
    "# ]))\n",
    "\n",
    "# Create a renderer\n",
    "r = pyrender.OffscreenRenderer(viewport_width=800, viewport_height=600)\n",
    "\n",
    "# Render the scene\n",
    "color, depth = r.render(scene)\n",
    "r.delete()\n",
    "\n",
    "\n",
    "# Display the rendered image\n",
    "plt.imshow(color)\n",
    "plt.axis('off')\n",
    "plt.show()\n"
   ]
  },
  {
   "cell_type": "code",
   "execution_count": null,
   "metadata": {},
   "outputs": [],
   "source": [
    "import trimesh\n",
    "\n",
    "# Load the mesh from a file\n",
    "mesh = trimesh.load_mesh(\"/home/borth/2d-gaussian-splatting/logs/2025-02-13/10-15-18/train/ours_10/fuse_cull.ply\")\n",
    "\n",
    "import pyrender\n",
    "import os\n",
    "os.environ[\"PYOPENGL_PLATFORM\"] = \"egl\"  # or \"egl\" if using a GPU\n",
    "# Convert to a Pyrender-compatible format\n",
    "mesh_pyrender = pyrender.Mesh.from_trimesh(mesh)\n",
    "\n",
    "# Create a scene\n",
    "scene = pyrender.Scene()\n",
    "scene.add(mesh_pyrender)\n",
    "\n",
    "# Add better lighting (Directional Light)\n",
    "light = pyrender.DirectionalLight(color=[1.0, 1.0, 1.0], intensity=3.0)\n",
    "scene.add(light)\n",
    "\n",
    "# Add a camera for a better view\n",
    "camera = pyrender.PerspectiveCamera(yfov=0.7)\n",
    "scene.add(camera, pose=[[1, 0, 0, 0],\n",
    "                        [0, 1, 0, 0],\n",
    "                        [0, 0, 1, 2],  # Move the camera back to see the model\n",
    "                        [0, 0, 0, 1]])\n",
    "\n",
    "# Add a camera for better viewing\n",
    "camera = pyrender.PerspectiveCamera(yfov=0.7)\n",
    "scene.add(camera, pose=[[1, 0, 0, 0],\n",
    "                        [0, 1, 0, 0],\n",
    "                        [0, 0, 1, 2],  # Move camera back to view model\n",
    "                        [0, 0, 0, 1]])\n",
    "\n",
    "# Render interactively\n",
    "pyrender.Viewer(scene, use_raymond_lighting=True)  # Opens an interactive window"
   ]
  }
 ],
 "metadata": {
  "kernelspec": {
   "display_name": "2dgs",
   "language": "python",
   "name": "python3"
  },
  "language_info": {
   "codemirror_mode": {
    "name": "ipython",
    "version": 3
   },
   "file_extension": ".py",
   "mimetype": "text/x-python",
   "name": "python",
   "nbconvert_exporter": "python",
   "pygments_lexer": "ipython3",
   "version": "3.10.16"
  }
 },
 "nbformat": 4,
 "nbformat_minor": 2
}
