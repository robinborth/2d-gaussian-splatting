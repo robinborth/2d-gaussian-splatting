{
 "cells": [
  {
   "cell_type": "code",
   "execution_count": null,
   "metadata": {},
   "outputs": [],
   "source": [
    "import logging\n",
    "from neural_poisson.data.shapenet import ShapeNetCoreDataset, log\n",
    "from pathlib import Path\n",
    "import time\n",
    "\n",
    "import lightning as L\n",
    "log.setLevel(logging.DEBUG)\n",
    "handler = logging.StreamHandler()\n",
    "handler.setLevel(logging.DEBUG)\n",
    "log.addHandler(handler)\n",
    "\n",
    "def measure_dataset(dataset, N=100):\n",
    "    start_time = time.time()\n",
    "    for i in range(N):\n",
    "        batch = dataset[i]\n",
    "    end_time = time.time()\n",
    "    duration = ((end_time - start_time) / N) * 1000\n",
    "    print(f\"Time taken for 100 iterations (GPU): {duration:.6f} ms\")\n",
    "\n",
    "# define the paths\n",
    "model_id = \"107bce22d72f322eedf1bb0b62653056\"\n",
    "root_dir = Path(\"/home/borth/2d-gaussian-splatting/\")\n",
    "shapenet_dir = root_dir / \"data/ShapeNetCore/04256520\"\n",
    "shapenet_path = shapenet_dir / model_id / \"models/model_normalized.obj\""
   ]
  },
  {
   "cell_type": "code",
   "execution_count": null,
   "metadata": {},
   "outputs": [],
   "source": [
    "s = time.time()\n",
    "dataset = ShapeNetCoreDataset(\n",
    "    path=shapenet_path,\n",
    "    dist=2.0,\n",
    "    fov=30.0,\n",
    "    image_size=256,\n",
    "    fill_depth=\"max2\",\n",
    "    segments=8,   # subsample x4\n",
    "    resolution=0.001,\n",
    "    num_chunks=100,\n",
    "    chunk_size=50_000,\n",
    "    max_empty_points=0,\n",
    "    max_close_points=0,\n",
    "    max_surface_points=100_000,\n",
    "    vector_field_mode=\"nearest_neighbor\",\n",
    "    sigma=0.001,\n",
    ")\n",
    "print(f\"Time taken for creation: {((time.time() - s)  * 1000):.6f} ms\")"
   ]
  },
  {
   "cell_type": "code",
   "execution_count": null,
   "metadata": {},
   "outputs": [],
   "source": [
    "dataset.plot_point_cloud(\"vectors_surface\")"
   ]
  },
  {
   "cell_type": "code",
   "execution_count": null,
   "metadata": {},
   "outputs": [],
   "source": [
    "dataset.plot_point_cloud(\"vectors_close\")"
   ]
  },
  {
   "cell_type": "code",
   "execution_count": null,
   "metadata": {},
   "outputs": [],
   "source": [
    "dataset.plot_normal_maps(False)"
   ]
  },
  {
   "cell_type": "code",
   "execution_count": null,
   "metadata": {},
   "outputs": [],
   "source": [
    "from neural_poisson.model.neural_poisson import NeuralPoisson\n",
    "import open3d as o3d\n",
    "from neural_poisson.data.prepare import load_mesh_o3d, to_pcd_o3d, to_mesh_o3d\n",
    "\n",
    "epoch = 10\n",
    "run_path = Path(\"/home/borth/2d-gaussian-splatting/logs/2025-02-26/09-27-46\")\n",
    "ckpt_path = run_path / f\"checkpoints/epoch_{epoch:05}.ckpt\"\n",
    "mesh_path = run_path / f\"mesh/epoch_{epoch:05}.obj\"\n",
    "\n",
    "model = NeuralPoisson.load_from_checkpoint(ckpt_path)\n",
    "mesh_model = to_mesh_o3d(model.to_mesh())\n",
    "mesh_ckpt = load_mesh_o3d(mesh_path)\n",
    "mesh_gt = load_mesh_o3d(shapenet_path)\n",
    "# pcd = to_pcd_o3d(dataset.points_surface, dataset.normals_surface)\n"
   ]
  },
  {
   "cell_type": "code",
   "execution_count": null,
   "metadata": {},
   "outputs": [],
   "source": [
    "print(mesh_model)\n",
    "print(mesh_ckpt)\n",
    "o3d.visualization.draw_plotly([mesh_ckpt, mesh_gt])"
   ]
  },
  {
   "cell_type": "code",
   "execution_count": null,
   "metadata": {},
   "outputs": [],
   "source": [
    "import torch\n",
    "from pytorch3d.ops.marching_cubes import marching_cubes\n",
    "from pytorch3d.structures import Meshes\n",
    "from neural_poisson.data.grid import coord_grid\n",
    "\n",
    "def to_mesh(model, voxel_size: int | None = None):\n",
    "    # prepare the evaluation\n",
    "    model.eval()\n",
    "\n",
    "    # fetch the point on the grid lattice\n",
    "    N = model.hparams[\"voxel_size\"] if voxel_size is None else voxel_size\n",
    "    grid = coord_grid(voxel_size=N, domain=model.hparams[\"domain\"]).reshape(-1, 3)\n",
    "\n",
    "    # evaluate the indicator function on the grid structure\n",
    "    sdfs = []\n",
    "    for points in torch.split(grid, model.hparams[\"chunk_size\"]):\n",
    "        x, _ = model.forward(points.to(model.device))\n",
    "        # convert indicator to \"sdf\" value, where negative is inside\n",
    "        sdfs.append(-x.detach().cpu())\n",
    "    sdf_grid = torch.cat(sdfs).reshape(N, N, N)\n",
    "    sdf_grid = sdf_grid.permute(2, 1, 0)\n",
    "\n",
    "    # log the slice of the mesh\n",
    "    # for dim in [\"x\", \"y\", \"z\"]:\n",
    "    #     self.log_video(sdf_grid=sdf_grid, dim=dim)\n",
    "\n",
    "    # ensures that we have a valid isolevel and can extract a mesh\n",
    "    isolevel = model.isolevel\n",
    "    if isolevel > sdf_grid.max() or isolevel < sdf_grid.min():\n",
    "        isolevel = (sdf_grid.max().item() - sdf_grid.min().item()) / 2\n",
    "\n",
    "    # perform marching cubes\n",
    "    verts, faces = marching_cubes(sdf_grid[None], isolevel=isolevel)\n",
    "    if not len(verts[0]):\n",
    "        return None\n",
    "    return Meshes(verts=verts, faces=faces).to(model.device)\n",
    "\n",
    "mesh_dev = to_mesh_o3d(to_mesh(model))\n",
    "o3d.visualization.draw_plotly([mesh_dev, mesh_gt])"
   ]
  },
  {
   "cell_type": "code",
   "execution_count": null,
   "metadata": {},
   "outputs": [],
   "source": [
    "o3d.visualization.draw_plotly([mesh_dev])"
   ]
  },
  {
   "cell_type": "code",
   "execution_count": null,
   "metadata": {},
   "outputs": [],
   "source": [
    "\n",
    "path = \"/home/borth/2d-gaussian-splatting/logs/2025-02-26/08-49-28/mesh/epoch_00030.obj\"\n",
    "pcd = to_pcd_o3d(dataset.points_surface, dataset.normals_surface)\n",
    "mesh = load_mesh_o3d(path)\n",
    "mesh_gt = load_mesh_o3d(shapenet_path)\n",
    "o3d.visualization.draw_plotly([mesh_gt, mesh, pcd])\n"
   ]
  },
  {
   "cell_type": "code",
   "execution_count": null,
   "metadata": {},
   "outputs": [],
   "source": []
  },
  {
   "cell_type": "code",
   "execution_count": null,
   "metadata": {},
   "outputs": [],
   "source": []
  },
  {
   "cell_type": "code",
   "execution_count": null,
   "metadata": {},
   "outputs": [],
   "source": [
    "model.isolevel = 0.25\n",
    "verts, faces = model.to_mesh()\n",
    "mesh = o3d.geometry.TriangleMesh()\n",
    "mesh.vertices = o3d.utility.Vector3dVector(verts.cpu().numpy())\n",
    "mesh.triangles = o3d.utility.Vector3iVector(faces.cpu().numpy())"
   ]
  },
  {
   "cell_type": "code",
   "execution_count": null,
   "metadata": {},
   "outputs": [],
   "source": [
    "mesh.compute_vertex_normals()\n",
    "o3d.visualization.draw_plotly([mesh])"
   ]
  },
  {
   "cell_type": "code",
   "execution_count": null,
   "metadata": {},
   "outputs": [],
   "source": [
    "import torch\n",
    "from pytorch3d.structures import Meshes\n",
    "from neural_poisson.data.prepare import get_depth_camera_space_attributes, rasterize_attributes\n",
    "import matplotlib.pyplot as plt\n",
    "\n",
    "# Assuming verts and faces are tensors\n",
    "# verts: (V, 3) tensor of vertex positions\n",
    "# faces: (F, 3) tensor of triangle indices\n",
    "\n",
    "device = \"cuda\" if torch.cuda.is_available() else \"cpu\"\n",
    "\n",
    "# Example: Move tensors to the same device\n",
    "verts = verts.to(device)\n",
    "faces = faces.to(device)\n",
    "\n",
    "# Create a PyTorch3D Mesh\n",
    "mesh = Meshes(verts=[verts], faces=[faces])\n",
    "mesh = dataset.mesh\n",
    "\n",
    "# camera = dataset.cameras[9]\n",
    "for camera in dataset.cameras:\n",
    "\n",
    "    attributes = get_depth_camera_space_attributes(mesh=mesh, camera=camera)\n",
    "    depth_map, mask = rasterize_attributes(\n",
    "        mesh=mesh,\n",
    "        camera=camera,\n",
    "        attributes=attributes,\n",
    "        image_size=256,\n",
    "    )\n",
    "    plt.imshow(depth_map[0].detach().cpu().numpy())"
   ]
  }
 ],
 "metadata": {
  "accelerator": "GPU",
  "anp_metadata": {
   "path": "notebooks/render_textured_meshes.ipynb"
  },
  "bento_stylesheets": {
   "bento/extensions/flow/main.css": true,
   "bento/extensions/kernel_selector/main.css": true,
   "bento/extensions/kernel_ui/main.css": true,
   "bento/extensions/new_kernel/main.css": true,
   "bento/extensions/system_usage/main.css": true,
   "bento/extensions/theme/main.css": true
  },
  "colab": {
   "name": "render_textured_meshes.ipynb",
   "provenance": []
  },
  "disseminate_notebook_info": {
   "backup_notebook_id": "569222367081034"
  },
  "kernelspec": {
   "display_name": "2dgs",
   "language": "python",
   "name": "python3"
  },
  "language_info": {
   "codemirror_mode": {
    "name": "ipython",
    "version": 3
   },
   "file_extension": ".py",
   "mimetype": "text/x-python",
   "name": "python",
   "nbconvert_exporter": "python",
   "pygments_lexer": "ipython3",
   "version": "3.10.16"
  }
 },
 "nbformat": 4,
 "nbformat_minor": 1
}
