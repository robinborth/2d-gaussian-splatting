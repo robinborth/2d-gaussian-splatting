{
 "cells": [
  {
   "cell_type": "code",
   "execution_count": null,
   "metadata": {},
   "outputs": [],
   "source": [
    "from hydra import compose, initialize\n",
    "from lib.scene import Scene, GaussianModel\n",
    "from lib.gaussian_renderer import Renderer\n",
    "from lib.utils.mesh_utils import to_cam_open3d\n",
    "from lib.utils.mesh_utils import GaussianExtractor\n",
    "import matplotlib.pyplot as plt\n",
    "import open3d as o3d\n",
    "import numpy as np\n",
    "import torch\n",
    "\n",
    "def normal_to_world(camera, normals):\n",
    "    # Assuming extrinsic is a 4x4 matrix and you're using the top-left 3x3 rotation matrix\n",
    "    extrinsic_matrix = torch.tensor(camera.extrinsic[:3, :3]).to(torch.float32)\n",
    "    # Reshape normals to shape (3, 100*100) to apply the transformation\n",
    "    normals_flat = normals.view(3, -1)\n",
    "    # Multiply the rotation matrix (3x3) with each normal vector (3, N)\n",
    "    transformed_normals = torch.matmul(extrinsic_matrix, normals_flat)\n",
    "    # Reshape back to (3, 100, 100)\n",
    "    transformed_normals = transformed_normals.view(3, *normals.shape[1:])\n",
    "    return transformed_normals\n",
    "\n",
    "with initialize(config_path=\"./conf\", version_base=None):\n",
    "    cfg = compose(config_name=\"train\", overrides=[])\n",
    "\n",
    "cfg.dataset.model_path = \"/home/borth/2d-gaussian-splatting/logs/2025-02-13/17-10-07\"\n",
    "render = Renderer(pipe=cfg.pipeline, dataset=cfg.dataset)\n",
    "gaussians = GaussianModel(cfg.dataset.sh_degree)\n",
    "scene = Scene(cfg.dataset, gaussians, load_iteration=-1)\n",
    "\n",
    "extractor = GaussianExtractor(scene.gaussians, render)\n",
    "sh_degree = extractor.gaussians.active_sh_degree\n",
    "extractor.gaussians.active_sh_degree = 0\n",
    "extractor.reconstruction(viewpoint_stack=scene.getTrainCameras())\n",
    "extractor.gaussians.active_sh_degree = sh_degree"
   ]
  },
  {
   "cell_type": "code",
   "execution_count": null,
   "metadata": {},
   "outputs": [],
   "source": [
    "img = extractor.rgbmaps[0].permute(1, 2, 0)\n",
    "plt.imshow(img.detach().cpu().numpy())\n",
    "\n",
    "mesh = extractor.extract_mesh_bounded()\n",
    "o3d.visualization.draw_plotly([mesh])"
   ]
  },
  {
   "cell_type": "code",
   "execution_count": null,
   "metadata": {},
   "outputs": [],
   "source": [
    "N = 500_000\n",
    "\n",
    "cameras = to_cam_open3d(extractor.viewpoint_stack)\n",
    "np_points = []\n",
    "np_normals = []\n",
    "for idx, camera in enumerate(cameras):\n",
    "    # create from depth map the world coordinates\n",
    "    depth_image = extractor.depthmaps[idx].detach().cpu().numpy()\n",
    "    depth = o3d.geometry.Image(depth_image[0])\n",
    "    intrinsic = camera.intrinsic\n",
    "    extrinsic = camera.extrinsic\n",
    "    pcd = o3d.geometry.PointCloud.create_from_depth_image(depth, intrinsic, extrinsic)\n",
    "    np_points.append(np.asarray(pcd.points))\n",
    "    # compute the normals\n",
    "    normal = extractor.normals[idx].permute(1, 2, 0).reshape(-1, 3)\n",
    "    # normal = normal_to_world(camera, extractor.normals[idx]).permute(1, 2, 0).reshape(-1, 3)\n",
    "    np_normals.append(normal.detach().cpu().numpy())\n",
    "\n",
    "\n",
    "np_points = np.vstack(np_points)\n",
    "np_normals = np.vstack(np_normals)\n",
    "\n",
    "indices = np.random.choice(np_points.shape[0], size=N, replace=False)\n",
    "points = o3d.utility.Vector3dVector(np_points[indices])\n",
    "normals = o3d.utility.Vector3dVector(np_normals[indices])\n",
    "pcd = o3d.geometry.PointCloud(points)\n",
    "# pcd.normals = normals\n",
    "pcd.estimate_normals()\n",
    "pcd, _ = pcd.remove_statistical_outlier(nb_neighbors=20, std_ratio=0.5)"
   ]
  },
  {
   "cell_type": "code",
   "execution_count": null,
   "metadata": {},
   "outputs": [],
   "source": [
    "o3d.visualization.draw_plotly([pcd])"
   ]
  },
  {
   "cell_type": "code",
   "execution_count": null,
   "metadata": {},
   "outputs": [],
   "source": [
    "mesh, densities = o3d.geometry.TriangleMesh.create_from_point_cloud_poisson(pcd, depth=9)\n",
    "o3d.io.write_triangle_mesh(\"/home/borth/2d-gaussian-splatting/tmp/poisson9_mesh105_estimate.ply\", mesh)\n",
    "o3d.visualization.draw_plotly([mesh])"
   ]
  },
  {
   "cell_type": "code",
   "execution_count": null,
   "metadata": {},
   "outputs": [],
   "source": [
    "mesh, densities = o3d.geometry.TriangleMesh.create_from_point_cloud_poisson(pcd, depth=9)\n",
    "# Compute a threshold based on density percentiles\n",
    "density_threshold = np.percentile(np.asarray(densities), 5)  # Keep top 95% dense areas\n",
    "# Select vertices above density threshold\n",
    "vertices_to_keep = np.asarray(densities) > density_threshold\n",
    "mesh.remove_vertices_by_mask(~vertices_to_keep)\n",
    "# Visualize the cleaned mesh\n",
    "o3d.visualization.draw_plotly([mesh])"
   ]
  }
 ],
 "metadata": {
  "kernelspec": {
   "display_name": "2dgs",
   "language": "python",
   "name": "python3"
  },
  "language_info": {
   "codemirror_mode": {
    "name": "ipython",
    "version": 3
   },
   "file_extension": ".py",
   "mimetype": "text/x-python",
   "name": "python",
   "nbconvert_exporter": "python",
   "pygments_lexer": "ipython3",
   "version": "3.10.16"
  }
 },
 "nbformat": 4,
 "nbformat_minor": 2
}
