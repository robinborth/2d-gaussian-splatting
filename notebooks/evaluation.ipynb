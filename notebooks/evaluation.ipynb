{
 "cells": [
  {
   "cell_type": "code",
   "execution_count": null,
   "metadata": {},
   "outputs": [],
   "source": [
    "import time\n",
    "import matplotlib.pyplot as plt\n",
    "from tqdm.notebook import tqdm\n",
    "\n",
    "from lib.scene import Scene, GaussianModel\n",
    "from lib.arguments import load_config\n",
    "from lib.gaussian_renderer import render\n",
    "from lib.utils.loss_utils import compute_full_loss_map\n",
    "\n",
    "# MODIFICATIONS\n",
    "OPTIMIZATION_STEPS = 50\n",
    "TRIN_CAMERA_IDX = 1\n",
    "\n",
    "# SETTINGS\n",
    "ARGUMENTS = [\n",
    "    (\"-s\", \"/home/borth/2d-gaussian-splatting/data/DTU/scan55\"),\n",
    "    (\"-m\", \"/home/borth/2d-gaussian-splatting/output/11-02-25/scan55\"),\n",
    "    (\"-r\", \"2\"),\n",
    "    (\"--depth_ratio\", \"1\")\n",
    "]\n",
    "\n",
    "dataset, opt, pipe = load_config(ARGUMENTS)\n",
    "gaussians = GaussianModel(dataset.sh_degree)\n",
    "scene = Scene(dataset, gaussians, load_iteration=-1)\n",
    "# scene = Scene(dataset, gaussians)\n",
    "camera = scene.getTrainCameras()\n"
   ]
  },
  {
   "cell_type": "code",
   "execution_count": null,
   "metadata": {},
   "outputs": [],
   "source": [
    "from lib.gaussian_renderer import render, render_wrapper\n",
    "import torch\n",
    "\n",
    "pipe.depth_ratio = 1.0\n",
    "bg_color = [1, 1, 1] if dataset.white_background else [0, 0, 0]\n",
    "background = torch.tensor(bg_color, dtype=torch.float32, device=\"cuda\")\n",
    "out = render(viewpoint_camera=camera[8], pc=gaussians, pipe=pipe, bg_color=background)\n",
    "print(out.keys())\n",
    "image = out[\"rend_normal\"].permute(1,2,0).detach().cpu().numpy()\n",
    "plt.imshow(image)\n",
    "plt.show()\n",
    "image = out[\"surf_normal\"].permute(1,2,0).detach().cpu().numpy()\n",
    "plt.imshow(image)\n",
    "plt.show()\n",
    "image = out[\"surf_depth\"].permute(1,2,0).detach().cpu().numpy()\n",
    "plt.imshow(image)\n",
    "plt.show()"
   ]
  },
  {
   "cell_type": "code",
   "execution_count": null,
   "metadata": {},
   "outputs": [],
   "source": [
    "pipe.depth_ratio"
   ]
  },
  {
   "cell_type": "code",
   "execution_count": null,
   "metadata": {},
   "outputs": [],
   "source": [
    "image = out[\"surf_depth\"].permute(1,2,0).detach().cpu().numpy()\n",
    "plt.imshow(image)\n",
    "plt.show()"
   ]
  },
  {
   "cell_type": "code",
   "execution_count": null,
   "metadata": {},
   "outputs": [],
   "source": []
  },
  {
   "cell_type": "code",
   "execution_count": null,
   "metadata": {},
   "outputs": [],
   "source": [
    "from PIL import Image\n",
    "import matplotlib.pyplot as plt\n",
    "\n",
    "# Visualize the GT image\n",
    "gt_image = camera[0].original_image\n",
    "plt.imshow(gt_image.permute(1,2,0).cpu().numpy())\n",
    "plt.show()\n",
    "\n",
    "# Visualize the GT image\n",
    "alpha_mask = camera[0].gt_alpha_mask\n",
    "plt.imshow(alpha_mask.permute(1,2,0).cpu().numpy())\n",
    "plt.show()"
   ]
  }
 ],
 "metadata": {
  "kernelspec": {
   "display_name": "2dgs",
   "language": "python",
   "name": "python3"
  },
  "language_info": {
   "codemirror_mode": {
    "name": "ipython",
    "version": 3
   },
   "file_extension": ".py",
   "mimetype": "text/x-python",
   "name": "python",
   "nbconvert_exporter": "python",
   "pygments_lexer": "ipython3",
   "version": "3.8.18"
  }
 },
 "nbformat": 4,
 "nbformat_minor": 2
}
