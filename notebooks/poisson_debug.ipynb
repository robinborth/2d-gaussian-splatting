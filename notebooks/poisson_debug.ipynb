{
 "cells": [
  {
   "cell_type": "code",
   "execution_count": null,
   "metadata": {},
   "outputs": [],
   "source": [
    "from neural_poisson.model.neural_poisson import NeuralPoisson\n",
    "\n",
    "ckpt_path = \"/home/borth/2d-gaussian-splatting/logs/2025-02-19/14-49-43/checkpoints/epoch_339.ckpt\"\n",
    "model = NeuralPoisson.load_from_checkpoint(ckpt_path)"
   ]
  },
  {
   "cell_type": "code",
   "execution_count": null,
   "metadata": {},
   "outputs": [],
   "source": [
    "import torch\n",
    "import numpy as np\n",
    "import matplotlib.pyplot as plt\n",
    "from mpl_toolkits.mplot3d.art3d import Poly3DCollection\n",
    "from pytorch3d.ops.marching_cubes import marching_cubes\n",
    "import open3d as o3d\n",
    "\n",
    "# Generate a 3D volumetric grid (e.g., a sphere)\n",
    "grid_size = 32\n",
    "x = torch.linspace(-1, 1, grid_size)\n",
    "y = torch.linspace(-1, 1, grid_size)\n",
    "z = torch.linspace(-1, 1, grid_size)\n",
    "X, Y, Z = torch.meshgrid(x, y, z, indexing='ij')\n",
    "vol = X**2 + Y**2 + Z**2 - 0.5**2  # Implicit surface of a sphere\n",
    "\n",
    "# Apply marching cubes\n",
    "verts, faces = marching_cubes(vol[None], isolevel=0.5)\n",
    "\n",
    "# Convert to NumPy for visualization\n",
    "verts = verts[0].numpy()\n",
    "faces = faces[0].numpy()\n",
    "\n",
    "# Create an Open3D mesh\n",
    "mesh = o3d.geometry.TriangleMesh()\n",
    "mesh.vertices = o3d.utility.Vector3dVector(verts)\n",
    "mesh.triangles = o3d.utility.Vector3iVector(faces)\n",
    "mesh.compute_vertex_normals()\n",
    "o3d.visualization.draw_plotly([mesh])\n"
   ]
  },
  {
   "cell_type": "code",
   "execution_count": null,
   "metadata": {},
   "outputs": [],
   "source": [
    "import wandb\n",
    "wandb.init(project=\"thesis\", entity=\"robinborth\")"
   ]
  },
  {
   "cell_type": "code",
   "execution_count": null,
   "metadata": {},
   "outputs": [],
   "source": [
    "\n",
    "v = (vol[None].permute(1, 0, 2, 3).expand(32, 3, 32, 32) > 0).to(torch.uint8) * 255\n",
    "video = wandb.Video(v, fps=20, format=\"gif\")\n",
    "wandb.log({\"video3\": video})"
   ]
  },
  {
   "cell_type": "code",
   "execution_count": null,
   "metadata": {},
   "outputs": [],
   "source": [
    "v.max()"
   ]
  },
  {
   "cell_type": "code",
   "execution_count": null,
   "metadata": {},
   "outputs": [],
   "source": [
    "vol.shape"
   ]
  },
  {
   "cell_type": "code",
   "execution_count": null,
   "metadata": {},
   "outputs": [],
   "source": [
    "import torch\n",
    "ckpt = torch.load(\"/home/borth/2d-gaussian-splatting/test.ckpt\")\n",
    "ckpt"
   ]
  },
  {
   "cell_type": "code",
   "execution_count": null,
   "metadata": {},
   "outputs": [],
   "source": [
    "import torch\n",
    "from neural_poisson.model.encoder import MLP\n",
    "\n",
    "mlp = MLP()\n",
    "points = torch.rand((1000, 3))\n",
    "torch.nn.init.uniform_(points, -1.0, 1.0)\n",
    "mlp(points).mean()"
   ]
  },
  {
   "cell_type": "code",
   "execution_count": null,
   "metadata": {},
   "outputs": [],
   "source": [
    "import torch\n",
    "\n",
    "axis = \"x\"\n",
    "\n",
    "grid_vals = torch.linspace(-1.0, 1.0, 256)\n",
    "xs, ys = torch.meshgrid(grid_vals, grid_vals, indexing=\"ij\")\n",
    "zs = torch.zeros_like(xs)\n",
    "if axis == \"x\":\n",
    "    coords = (zs.ravel(), xs.ravel(), ys.ravel())\n",
    "if axis == \"y\":\n",
    "    coords = (xs.ravel(), zs.ravel(), ys.ravel())\n",
    "if axis == \"z\":\n",
    "    coords = (xs.ravel(), ys.ravel(), zs.ravel())\n",
    "grid = torch.stack(coords).reshape(-1, 3)\n",
    "x, _ = self.forward(points.to(self.device))\n",
    "\n",
    "xs"
   ]
  }
 ],
 "metadata": {
  "kernelspec": {
   "display_name": "2dgs",
   "language": "python",
   "name": "python3"
  },
  "language_info": {
   "codemirror_mode": {
    "name": "ipython",
    "version": 3
   },
   "file_extension": ".py",
   "mimetype": "text/x-python",
   "name": "python",
   "nbconvert_exporter": "python",
   "pygments_lexer": "ipython3",
   "version": "3.10.16"
  }
 },
 "nbformat": 4,
 "nbformat_minor": 2
}
