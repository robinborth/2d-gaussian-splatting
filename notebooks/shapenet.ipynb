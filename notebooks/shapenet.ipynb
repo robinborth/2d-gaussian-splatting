{
 "cells": [
  {
   "cell_type": "code",
   "execution_count": null,
   "metadata": {},
   "outputs": [],
   "source": [
    "import logging\n",
    "import math\n",
    "import random\n",
    "from collections import defaultdict\n",
    "from functools import partial\n",
    "\n",
    "import matplotlib.pyplot as plt\n",
    "from pathlib import Path\n",
    "import numpy as np\n",
    "import open3d as o3d\n",
    "import torch\n",
    "from pytorch3d.io import load_objs_as_meshes\n",
    "from pytorch3d.renderer import (\n",
    "    CamerasBase,\n",
    "    FoVPerspectiveCameras,\n",
    "    MeshRasterizer,\n",
    "    RasterizationSettings,\n",
    "    look_at_view_transform,\n",
    ")\n",
    "from pytorch3d.structures import Meshes\n",
    "from neural_poisson.data.prepare import load_mesh, extract_surface_data\n",
    "\n",
    "model_idx = 9\n",
    "root_dir = Path(\"/home/borth/2d-gaussian-splatting/\")\n",
    "shapenet_dir = root_dir / \"data/ShapeNetCore/04256520\"\n",
    "model_id = sorted(list(Path(shapenet_dir).iterdir()))[model_idx].stem\n",
    "shapenet_path = shapenet_dir / model_id / \"models/model_normalized.obj\"\n",
    "\n",
    "R, T = look_at_view_transform(1.0, 10, 180)\n",
    "camera = FoVPerspectiveCameras(device=\"cuda\", R=R, T=T, fov=60.0)\n",
    "\n",
    "mesh = load_mesh(shapenet_path, \"cuda\")\n",
    "\n",
    "data = extract_surface_data(\n",
    "    camera=camera,\n",
    "    mesh=mesh,\n",
    "    image_size=512,\n",
    "    fill_depth=\"max2\",\n",
    ")\n",
    "\n",
    "normals = (data[\"normal_map\"] + 1) / 2\n",
    "plt.imshow(normals.detach().cpu().numpy())"
   ]
  },
  {
   "cell_type": "code",
   "execution_count": 1,
   "metadata": {},
   "outputs": [
    {
     "ename": "NameError",
     "evalue": "name 'model_id' is not defined",
     "output_type": "error",
     "traceback": [
      "\u001b[0;31m---------------------------------------------------------------------------\u001b[0m",
      "\u001b[0;31mNameError\u001b[0m                                 Traceback (most recent call last)",
      "Cell \u001b[0;32mIn[1], line 1\u001b[0m\n\u001b[0;32m----> 1\u001b[0m \u001b[43mmodel_id\u001b[49m\n",
      "\u001b[0;31mNameError\u001b[0m: name 'model_id' is not defined"
     ]
    }
   ],
   "source": [
    "model_id"
   ]
  },
  {
   "cell_type": "code",
   "execution_count": null,
   "metadata": {},
   "outputs": [],
   "source": [
    "from neural_poisson.mesh.utils import pytorch3d_to_open3d\n",
    "import open3d as o3d\n",
    "\n",
    "_mesh = pytorch3d_to_open3d(mesh)\n",
    "o3d.visualization.draw_plotly([_mesh])"
   ]
  },
  {
   "cell_type": "code",
   "execution_count": null,
   "metadata": {},
   "outputs": [],
   "source": [
    "list(Path(shapenet_dir).iterdir())[0]"
   ]
  },
  {
   "cell_type": "code",
   "execution_count": null,
   "metadata": {},
   "outputs": [],
   "source": [
    "normals.min()"
   ]
  },
  {
   "cell_type": "code",
   "execution_count": null,
   "metadata": {},
   "outputs": [],
   "source": [
    " list(Path(shapenet_dir).iterdir())"
   ]
  },
  {
   "cell_type": "code",
   "execution_count": null,
   "metadata": {},
   "outputs": [],
   "source": [
    "list(shapenet_dir.iterdir())"
   ]
  }
 ],
 "metadata": {
  "kernelspec": {
   "display_name": "2dgs",
   "language": "python",
   "name": "python3"
  },
  "language_info": {
   "codemirror_mode": {
    "name": "ipython",
    "version": 3
   },
   "file_extension": ".py",
   "mimetype": "text/x-python",
   "name": "python",
   "nbconvert_exporter": "python",
   "pygments_lexer": "ipython3",
   "version": "3.10.16"
  }
 },
 "nbformat": 4,
 "nbformat_minor": 2
}
