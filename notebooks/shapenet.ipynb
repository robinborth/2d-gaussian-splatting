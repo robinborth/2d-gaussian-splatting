{
 "cells": [
  {
   "cell_type": "code",
   "execution_count": null,
   "metadata": {},
   "outputs": [],
   "source": [
    "import logging\n",
    "import math\n",
    "import random\n",
    "from collections import defaultdict\n",
    "from functools import partial\n",
    "\n",
    "import matplotlib.pyplot as plt\n",
    "from pathlib import Path\n",
    "import numpy as np\n",
    "import open3d as o3d\n",
    "import torch\n",
    "from pytorch3d.io import load_objs_as_meshes\n",
    "from pytorch3d.renderer import (\n",
    "    CamerasBase,\n",
    "    FoVPerspectiveCameras,\n",
    "    MeshRasterizer,\n",
    "    RasterizationSettings,\n",
    "    look_at_view_transform,\n",
    ")\n",
    "from pytorch3d.structures import Meshes\n",
    "from neural_poisson.data.prepare import load_mesh, extract_surface_data\n",
    "\n",
    "model_idx = 9\n",
    "root_dir = Path(\"/home/borth/2d-gaussian-splatting/\")\n",
    "shapenet_dir = root_dir / \"data/ShapeNetCore/04256520\"\n",
    "model_id = sorted(list(Path(shapenet_dir).iterdir()))[model_idx].stem\n",
    "shapenet_path = shapenet_dir / model_id / \"models/model_normalized.obj\"\n",
    "\n",
    "R, T = look_at_view_transform(1.0, 10, 180)\n",
    "camera = FoVPerspectiveCameras(device=\"cuda\", R=R, T=T, fov=60.0)\n",
    "\n",
    "mesh = load_mesh(shapenet_path, \"cuda\")\n",
    "\n",
    "data = extract_surface_data(\n",
    "    camera=camera,\n",
    "    mesh=mesh,\n",
    "    image_size=512,\n",
    "    fill_depth=\"max2\",\n",
    ")\n",
    "\n",
    "normals = (data[\"normal_map\"] + 1) / 2\n",
    "plt.imshow(normals.detach().cpu().numpy())"
   ]
  },
  {
   "cell_type": "code",
   "execution_count": null,
   "metadata": {},
   "outputs": [],
   "source": []
  },
  {
   "cell_type": "code",
   "execution_count": null,
   "metadata": {},
   "outputs": [],
   "source": [
    "from neural_poisson.data.grid import coord_grid, coord_grid_along_axis\n",
    "\n",
    "voxel_size = 256\n",
    "domain = (-1.0, 1.0)\n",
    "grid = coord_grid_along_axis(voxel_size=voxel_size, domain=domain)\n",
    "grid.shape"
   ]
  },
  {
   "cell_type": "code",
   "execution_count": null,
   "metadata": {},
   "outputs": [],
   "source": [
    "import numpy as np\n",
    "from neural_poisson.data import binvox_rw\n",
    "\n",
    "with open(shapenet_dir / model_id / \"models/model_normalized.surface.binvox\", 'rb') as f:\n",
    "    model = binvox_rw.read_as_3d_array(f)"
   ]
  },
  {
   "cell_type": "code",
   "execution_count": null,
   "metadata": {},
   "outputs": [],
   "source": [
    "# Convert to Open3D VoxelGrid\n",
    "voxel_size = 1.0\n",
    "origin = np.array([0, 0, 0])  # Set origin if needed\n",
    "\n",
    "voxel_grid = o3d.geometry.VoxelGrid.create_from_dense(\n",
    "    model.data.astype(np.float32),  # Convert boolean array to float\n",
    "    voxel_size=voxel_size,\n",
    "    origin=origin\n",
    ")\n",
    "\n",
    "# Visualize\n",
    "o3d.visualization.draw_geometries([voxel_grid])"
   ]
  },
  {
   "cell_type": "code",
   "execution_count": null,
   "metadata": {},
   "outputs": [],
   "source": [
    "import open3d as o3d\n",
    "# Extract occupied voxel indices\n",
    "voxel_indices = np.argwhere(m1.data)  # Get indices of occupied voxels\n",
    "\n",
    "# Convert to Open3D voxel grid\n",
    "voxel_size = 1.0  # Adjust voxel size if needed\n",
    "voxel_grid = o3d.geometry.VoxelGrid()\n",
    "\n",
    "# for voxel in voxel_indices:\n",
    "#     voxel_grid.add_voxel(o3d.geometry.Voxel(o3d.utility.Vector3iVector([voxel]), voxel_size))\n",
    "\n",
    "voxel_grid.add_voxel()"
   ]
  },
  {
   "cell_type": "code",
   "execution_count": null,
   "metadata": {},
   "outputs": [],
   "source": [
    "import open3d as o3d\n",
    "\n",
    "# Create Open3D PointCloud\n",
    "pcd = o3d.geometry.PointCloud()\n",
    "pcd.points = o3d.utility.Vector3dVector(data[\"points\"].detach().cpu().numpy())\n",
    "\n",
    "# Convert PointCloud to VoxelGrid\n",
    "voxel_size = 0.01  # Adjust as needed\n",
    "voxel_grid = o3d.geometry.VoxelGrid.create_from_point_cloud(pcd, voxel_size)\n",
    "o3d.visualization.draw_plotly([voxel_grid])"
   ]
  },
  {
   "cell_type": "code",
   "execution_count": null,
   "metadata": {},
   "outputs": [],
   "source": [
    "from neural_poisson.mesh.utils import pytorch3d_to_open3d\n",
    "import open3d as o3d\n",
    "\n",
    "_mesh = pytorch3d_to_open3d(mesh)\n",
    "o3d.visualization.draw_plotly([_mesh])"
   ]
  },
  {
   "cell_type": "code",
   "execution_count": null,
   "metadata": {},
   "outputs": [],
   "source": [
    "list(Path(shapenet_dir).iterdir())[0]"
   ]
  },
  {
   "cell_type": "code",
   "execution_count": null,
   "metadata": {},
   "outputs": [],
   "source": [
    "normals.min()"
   ]
  },
  {
   "cell_type": "code",
   "execution_count": null,
   "metadata": {},
   "outputs": [],
   "source": [
    " list(Path(shapenet_dir).iterdir())"
   ]
  },
  {
   "cell_type": "code",
   "execution_count": null,
   "metadata": {},
   "outputs": [],
   "source": [
    "list(shapenet_dir.iterdir())"
   ]
  }
 ],
 "metadata": {
  "kernelspec": {
   "display_name": "2dgs",
   "language": "python",
   "name": "python3"
  },
  "language_info": {
   "codemirror_mode": {
    "name": "ipython",
    "version": 3
   },
   "file_extension": ".py",
   "mimetype": "text/x-python",
   "name": "python",
   "nbconvert_exporter": "python",
   "pygments_lexer": "ipython3",
   "version": "3.10.16"
  }
 },
 "nbformat": 4,
 "nbformat_minor": 2
}
